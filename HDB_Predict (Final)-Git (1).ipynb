{
 "cells": [
  {
   "cell_type": "code",
   "execution_count": 1,
   "id": "9bcde662",
   "metadata": {},
   "outputs": [],
   "source": [
    "#Using Linear Regression, to study how the selling price of HDB flat changes based on our multiple factors\n",
    "#Factors - CBD, School, Park, Market, Hospital, MRT, Facilities, Floor size, storey, age\n",
    "import pandas as pd\n",
    "import numpy as np\n",
    "import seaborn as sns\n",
    "import matplotlib.pyplot as plt\n",
    "from sklearn.linear_model import LinearRegression #Algorithm\n",
    "from sklearn.model_selection import train_test_split\n",
    "from sklearn import metrics"
   ]
  },
  {
   "cell_type": "code",
   "execution_count": 2,
   "id": "f39085a1",
   "metadata": {},
   "outputs": [
    {
     "data": {
      "text/html": [
       "<div>\n",
       "<style scoped>\n",
       "    .dataframe tbody tr th:only-of-type {\n",
       "        vertical-align: middle;\n",
       "    }\n",
       "\n",
       "    .dataframe tbody tr th {\n",
       "        vertical-align: top;\n",
       "    }\n",
       "\n",
       "    .dataframe thead th {\n",
       "        text-align: right;\n",
       "    }\n",
       "</style>\n",
       "<table border=\"1\" class=\"dataframe\">\n",
       "  <thead>\n",
       "    <tr style=\"text-align: right;\">\n",
       "      <th></th>\n",
       "      <th>month</th>\n",
       "      <th>new_address</th>\n",
       "      <th>postal_code</th>\n",
       "      <th>town</th>\n",
       "      <th>flat_type</th>\n",
       "      <th>storey_range</th>\n",
       "      <th>storey_from</th>\n",
       "      <th>storey_to</th>\n",
       "      <th>floor_area_sqm</th>\n",
       "      <th>flat_model</th>\n",
       "      <th>lease_commence_date</th>\n",
       "      <th>remaining_lease_in_years</th>\n",
       "      <th>dis_to_cbd</th>\n",
       "      <th>min_dist_to_mrt</th>\n",
       "      <th>min_dist_to_school</th>\n",
       "      <th>min_dist_hospital</th>\n",
       "      <th>min_dist_to_park</th>\n",
       "      <th>min_dist_to_market</th>\n",
       "      <th>min_dist_to_facility</th>\n",
       "      <th>resale_price</th>\n",
       "    </tr>\n",
       "  </thead>\n",
       "  <tbody>\n",
       "    <tr>\n",
       "      <th>0</th>\n",
       "      <td>2019</td>\n",
       "      <td>122 HOUGANG AVENUE 1</td>\n",
       "      <td>530122</td>\n",
       "      <td>HOUGANG</td>\n",
       "      <td>3</td>\n",
       "      <td>01 TO 03</td>\n",
       "      <td>1</td>\n",
       "      <td>3</td>\n",
       "      <td>67.0</td>\n",
       "      <td>New Generation</td>\n",
       "      <td>1983</td>\n",
       "      <td>63.3</td>\n",
       "      <td>8731.682878</td>\n",
       "      <td>721.908407</td>\n",
       "      <td>331.165289</td>\n",
       "      <td>1814.968989</td>\n",
       "      <td>173.496081</td>\n",
       "      <td>438.053245</td>\n",
       "      <td>1328.297563</td>\n",
       "      <td>260000.0</td>\n",
       "    </tr>\n",
       "    <tr>\n",
       "      <th>1</th>\n",
       "      <td>2019</td>\n",
       "      <td>122 HOUGANG AVENUE 1</td>\n",
       "      <td>530122</td>\n",
       "      <td>HOUGANG</td>\n",
       "      <td>5</td>\n",
       "      <td>01 TO 03</td>\n",
       "      <td>1</td>\n",
       "      <td>3</td>\n",
       "      <td>133.0</td>\n",
       "      <td>Improved-Maisonette</td>\n",
       "      <td>1983</td>\n",
       "      <td>63.3</td>\n",
       "      <td>8731.682878</td>\n",
       "      <td>721.908407</td>\n",
       "      <td>331.165289</td>\n",
       "      <td>1814.968989</td>\n",
       "      <td>173.496081</td>\n",
       "      <td>438.053245</td>\n",
       "      <td>1328.297563</td>\n",
       "      <td>710000.0</td>\n",
       "    </tr>\n",
       "    <tr>\n",
       "      <th>2</th>\n",
       "      <td>2019</td>\n",
       "      <td>951 HOUGANG AVENUE 9</td>\n",
       "      <td>530951</td>\n",
       "      <td>HOUGANG</td>\n",
       "      <td>5</td>\n",
       "      <td>13 TO 15</td>\n",
       "      <td>13</td>\n",
       "      <td>15</td>\n",
       "      <td>121.0</td>\n",
       "      <td>Improved</td>\n",
       "      <td>1999</td>\n",
       "      <td>78.9</td>\n",
       "      <td>10681.260240</td>\n",
       "      <td>1653.971961</td>\n",
       "      <td>418.518565</td>\n",
       "      <td>418.717092</td>\n",
       "      <td>1150.014061</td>\n",
       "      <td>1813.918263</td>\n",
       "      <td>1107.882950</td>\n",
       "      <td>510000.0</td>\n",
       "    </tr>\n",
       "    <tr>\n",
       "      <th>3</th>\n",
       "      <td>2019</td>\n",
       "      <td>21 TEBAN GARDENS ROAD</td>\n",
       "      <td>600021</td>\n",
       "      <td>JURONG EAST</td>\n",
       "      <td>4</td>\n",
       "      <td>04 TO 06</td>\n",
       "      <td>4</td>\n",
       "      <td>6</td>\n",
       "      <td>92.0</td>\n",
       "      <td>Model A</td>\n",
       "      <td>2013</td>\n",
       "      <td>93.3</td>\n",
       "      <td>13266.470820</td>\n",
       "      <td>1103.794101</td>\n",
       "      <td>890.396736</td>\n",
       "      <td>1295.660320</td>\n",
       "      <td>1585.189337</td>\n",
       "      <td>520.484512</td>\n",
       "      <td>1750.267136</td>\n",
       "      <td>382000.0</td>\n",
       "    </tr>\n",
       "    <tr>\n",
       "      <th>4</th>\n",
       "      <td>2019</td>\n",
       "      <td>20 TEBAN GARDENS ROAD</td>\n",
       "      <td>600020</td>\n",
       "      <td>JURONG EAST</td>\n",
       "      <td>4</td>\n",
       "      <td>01 TO 03</td>\n",
       "      <td>1</td>\n",
       "      <td>3</td>\n",
       "      <td>92.0</td>\n",
       "      <td>Model A</td>\n",
       "      <td>2013</td>\n",
       "      <td>93.3</td>\n",
       "      <td>13337.111780</td>\n",
       "      <td>1117.652338</td>\n",
       "      <td>955.872009</td>\n",
       "      <td>1326.775610</td>\n",
       "      <td>1537.577048</td>\n",
       "      <td>584.991357</td>\n",
       "      <td>1687.852586</td>\n",
       "      <td>380000.0</td>\n",
       "    </tr>\n",
       "    <tr>\n",
       "      <th>...</th>\n",
       "      <td>...</td>\n",
       "      <td>...</td>\n",
       "      <td>...</td>\n",
       "      <td>...</td>\n",
       "      <td>...</td>\n",
       "      <td>...</td>\n",
       "      <td>...</td>\n",
       "      <td>...</td>\n",
       "      <td>...</td>\n",
       "      <td>...</td>\n",
       "      <td>...</td>\n",
       "      <td>...</td>\n",
       "      <td>...</td>\n",
       "      <td>...</td>\n",
       "      <td>...</td>\n",
       "      <td>...</td>\n",
       "      <td>...</td>\n",
       "      <td>...</td>\n",
       "      <td>...</td>\n",
       "      <td>...</td>\n",
       "    </tr>\n",
       "    <tr>\n",
       "      <th>51814</th>\n",
       "      <td>2021</td>\n",
       "      <td>116 ANG MO KIO AVENUE 4</td>\n",
       "      <td>560116</td>\n",
       "      <td>ANG MO KIO</td>\n",
       "      <td>2</td>\n",
       "      <td>04 TO 06</td>\n",
       "      <td>4</td>\n",
       "      <td>6</td>\n",
       "      <td>44.0</td>\n",
       "      <td>Improved</td>\n",
       "      <td>1978</td>\n",
       "      <td>56.1</td>\n",
       "      <td>10125.643900</td>\n",
       "      <td>208.580023</td>\n",
       "      <td>246.605467</td>\n",
       "      <td>1031.590181</td>\n",
       "      <td>727.882679</td>\n",
       "      <td>298.726278</td>\n",
       "      <td>869.757017</td>\n",
       "      <td>230000.0</td>\n",
       "    </tr>\n",
       "    <tr>\n",
       "      <th>51815</th>\n",
       "      <td>2021</td>\n",
       "      <td>225 ANG MO KIO AVENUE 1</td>\n",
       "      <td>560225</td>\n",
       "      <td>ANG MO KIO</td>\n",
       "      <td>3</td>\n",
       "      <td>10 TO 12</td>\n",
       "      <td>10</td>\n",
       "      <td>12</td>\n",
       "      <td>82.0</td>\n",
       "      <td>New Generation</td>\n",
       "      <td>1978</td>\n",
       "      <td>55.8</td>\n",
       "      <td>9446.144286</td>\n",
       "      <td>482.958376</td>\n",
       "      <td>212.148185</td>\n",
       "      <td>1135.234100</td>\n",
       "      <td>919.691974</td>\n",
       "      <td>137.870595</td>\n",
       "      <td>296.758297</td>\n",
       "      <td>365000.0</td>\n",
       "    </tr>\n",
       "    <tr>\n",
       "      <th>51816</th>\n",
       "      <td>2021</td>\n",
       "      <td>219 ANG MO KIO AVENUE 1</td>\n",
       "      <td>560219</td>\n",
       "      <td>ANG MO KIO</td>\n",
       "      <td>3</td>\n",
       "      <td>04 TO 06</td>\n",
       "      <td>4</td>\n",
       "      <td>6</td>\n",
       "      <td>67.0</td>\n",
       "      <td>New Generation</td>\n",
       "      <td>1977</td>\n",
       "      <td>55.3</td>\n",
       "      <td>9251.897123</td>\n",
       "      <td>757.716383</td>\n",
       "      <td>264.770696</td>\n",
       "      <td>1078.680910</td>\n",
       "      <td>940.460113</td>\n",
       "      <td>143.393769</td>\n",
       "      <td>87.344311</td>\n",
       "      <td>305000.0</td>\n",
       "    </tr>\n",
       "    <tr>\n",
       "      <th>51817</th>\n",
       "      <td>2021</td>\n",
       "      <td>219 ANG MO KIO AVENUE 1</td>\n",
       "      <td>560219</td>\n",
       "      <td>ANG MO KIO</td>\n",
       "      <td>3</td>\n",
       "      <td>10 TO 12</td>\n",
       "      <td>10</td>\n",
       "      <td>12</td>\n",
       "      <td>67.0</td>\n",
       "      <td>New Generation</td>\n",
       "      <td>1977</td>\n",
       "      <td>55.3</td>\n",
       "      <td>9251.897123</td>\n",
       "      <td>757.716383</td>\n",
       "      <td>264.770696</td>\n",
       "      <td>1078.680910</td>\n",
       "      <td>940.460113</td>\n",
       "      <td>143.393769</td>\n",
       "      <td>87.344311</td>\n",
       "      <td>292000.0</td>\n",
       "    </tr>\n",
       "    <tr>\n",
       "      <th>51818</th>\n",
       "      <td>2021</td>\n",
       "      <td>330 ANG MO KIO AVENUE 1</td>\n",
       "      <td>560330</td>\n",
       "      <td>ANG MO KIO</td>\n",
       "      <td>3</td>\n",
       "      <td>10 TO 12</td>\n",
       "      <td>10</td>\n",
       "      <td>12</td>\n",
       "      <td>68.0</td>\n",
       "      <td>New Generation</td>\n",
       "      <td>1981</td>\n",
       "      <td>58.8</td>\n",
       "      <td>8783.218982</td>\n",
       "      <td>845.456512</td>\n",
       "      <td>306.156206</td>\n",
       "      <td>1443.675803</td>\n",
       "      <td>397.688186</td>\n",
       "      <td>364.944886</td>\n",
       "      <td>149.450807</td>\n",
       "      <td>320000.0</td>\n",
       "    </tr>\n",
       "  </tbody>\n",
       "</table>\n",
       "<p>51819 rows × 20 columns</p>\n",
       "</div>"
      ],
      "text/plain": [
       "       month              new_address  postal_code         town  flat_type  \\\n",
       "0       2019     122 HOUGANG AVENUE 1       530122      HOUGANG          3   \n",
       "1       2019     122 HOUGANG AVENUE 1       530122      HOUGANG          5   \n",
       "2       2019     951 HOUGANG AVENUE 9       530951      HOUGANG          5   \n",
       "3       2019    21 TEBAN GARDENS ROAD       600021  JURONG EAST          4   \n",
       "4       2019    20 TEBAN GARDENS ROAD       600020  JURONG EAST          4   \n",
       "...      ...                      ...          ...          ...        ...   \n",
       "51814   2021  116 ANG MO KIO AVENUE 4       560116   ANG MO KIO          2   \n",
       "51815   2021  225 ANG MO KIO AVENUE 1       560225   ANG MO KIO          3   \n",
       "51816   2021  219 ANG MO KIO AVENUE 1       560219   ANG MO KIO          3   \n",
       "51817   2021  219 ANG MO KIO AVENUE 1       560219   ANG MO KIO          3   \n",
       "51818   2021  330 ANG MO KIO AVENUE 1       560330   ANG MO KIO          3   \n",
       "\n",
       "      storey_range  storey_from  storey_to  floor_area_sqm  \\\n",
       "0         01 TO 03            1          3            67.0   \n",
       "1         01 TO 03            1          3           133.0   \n",
       "2         13 TO 15           13         15           121.0   \n",
       "3         04 TO 06            4          6            92.0   \n",
       "4         01 TO 03            1          3            92.0   \n",
       "...            ...          ...        ...             ...   \n",
       "51814     04 TO 06            4          6            44.0   \n",
       "51815     10 TO 12           10         12            82.0   \n",
       "51816     04 TO 06            4          6            67.0   \n",
       "51817     10 TO 12           10         12            67.0   \n",
       "51818     10 TO 12           10         12            68.0   \n",
       "\n",
       "                flat_model  lease_commence_date  remaining_lease_in_years  \\\n",
       "0           New Generation                 1983                      63.3   \n",
       "1      Improved-Maisonette                 1983                      63.3   \n",
       "2                 Improved                 1999                      78.9   \n",
       "3                  Model A                 2013                      93.3   \n",
       "4                  Model A                 2013                      93.3   \n",
       "...                    ...                  ...                       ...   \n",
       "51814             Improved                 1978                      56.1   \n",
       "51815       New Generation                 1978                      55.8   \n",
       "51816       New Generation                 1977                      55.3   \n",
       "51817       New Generation                 1977                      55.3   \n",
       "51818       New Generation                 1981                      58.8   \n",
       "\n",
       "         dis_to_cbd  min_dist_to_mrt  min_dist_to_school  min_dist_hospital  \\\n",
       "0       8731.682878       721.908407          331.165289        1814.968989   \n",
       "1       8731.682878       721.908407          331.165289        1814.968989   \n",
       "2      10681.260240      1653.971961          418.518565         418.717092   \n",
       "3      13266.470820      1103.794101          890.396736        1295.660320   \n",
       "4      13337.111780      1117.652338          955.872009        1326.775610   \n",
       "...             ...              ...                 ...                ...   \n",
       "51814  10125.643900       208.580023          246.605467        1031.590181   \n",
       "51815   9446.144286       482.958376          212.148185        1135.234100   \n",
       "51816   9251.897123       757.716383          264.770696        1078.680910   \n",
       "51817   9251.897123       757.716383          264.770696        1078.680910   \n",
       "51818   8783.218982       845.456512          306.156206        1443.675803   \n",
       "\n",
       "       min_dist_to_park  min_dist_to_market  min_dist_to_facility  \\\n",
       "0            173.496081          438.053245           1328.297563   \n",
       "1            173.496081          438.053245           1328.297563   \n",
       "2           1150.014061         1813.918263           1107.882950   \n",
       "3           1585.189337          520.484512           1750.267136   \n",
       "4           1537.577048          584.991357           1687.852586   \n",
       "...                 ...                 ...                   ...   \n",
       "51814        727.882679          298.726278            869.757017   \n",
       "51815        919.691974          137.870595            296.758297   \n",
       "51816        940.460113          143.393769             87.344311   \n",
       "51817        940.460113          143.393769             87.344311   \n",
       "51818        397.688186          364.944886            149.450807   \n",
       "\n",
       "       resale_price  \n",
       "0          260000.0  \n",
       "1          710000.0  \n",
       "2          510000.0  \n",
       "3          382000.0  \n",
       "4          380000.0  \n",
       "...             ...  \n",
       "51814      230000.0  \n",
       "51815      365000.0  \n",
       "51816      305000.0  \n",
       "51817      292000.0  \n",
       "51818      320000.0  \n",
       "\n",
       "[51819 rows x 20 columns]"
      ]
     },
     "execution_count": 2,
     "metadata": {},
     "output_type": "execute_result"
    }
   ],
   "source": [
    "df = pd.read_csv('./data3/HDBResale_Train_Jupyter.csv')\n",
    "df"
   ]
  },
  {
   "cell_type": "code",
   "execution_count": 3,
   "id": "0e86d735",
   "metadata": {},
   "outputs": [],
   "source": [
    "import statistics\n",
    "\n",
    "def get_median(x):\n",
    "    split_list = x.split(' TO ')\n",
    "    float_list = [float(i) for i in split_list]\n",
    "    median = statistics.median(float_list)\n",
    "    return median"
   ]
  },
  {
   "cell_type": "code",
   "execution_count": 4,
   "id": "59251ab0",
   "metadata": {},
   "outputs": [],
   "source": [
    "df['storey_median'] = df ['storey_range'].apply(lambda x:get_median(x))"
   ]
  },
  {
   "cell_type": "code",
   "execution_count": 5,
   "id": "1e2d3a73",
   "metadata": {},
   "outputs": [
    {
     "data": {
      "text/html": [
       "<div>\n",
       "<style scoped>\n",
       "    .dataframe tbody tr th:only-of-type {\n",
       "        vertical-align: middle;\n",
       "    }\n",
       "\n",
       "    .dataframe tbody tr th {\n",
       "        vertical-align: top;\n",
       "    }\n",
       "\n",
       "    .dataframe thead th {\n",
       "        text-align: right;\n",
       "    }\n",
       "</style>\n",
       "<table border=\"1\" class=\"dataframe\">\n",
       "  <thead>\n",
       "    <tr style=\"text-align: right;\">\n",
       "      <th></th>\n",
       "      <th>resale_price</th>\n",
       "      <th>dis_to_cbd</th>\n",
       "      <th>min_dist_to_mrt</th>\n",
       "      <th>min_dist_to_school</th>\n",
       "      <th>min_dist_hospital</th>\n",
       "      <th>min_dist_to_park</th>\n",
       "      <th>min_dist_to_market</th>\n",
       "      <th>min_dist_to_facility</th>\n",
       "      <th>storey_median</th>\n",
       "      <th>remaining_lease_in_years</th>\n",
       "      <th>floor_area_sqm</th>\n",
       "    </tr>\n",
       "  </thead>\n",
       "  <tbody>\n",
       "    <tr>\n",
       "      <th>0</th>\n",
       "      <td>260000.0</td>\n",
       "      <td>8731.682878</td>\n",
       "      <td>721.908407</td>\n",
       "      <td>331.165289</td>\n",
       "      <td>1814.968989</td>\n",
       "      <td>173.496081</td>\n",
       "      <td>438.053245</td>\n",
       "      <td>1328.297563</td>\n",
       "      <td>2.0</td>\n",
       "      <td>63.3</td>\n",
       "      <td>67.0</td>\n",
       "    </tr>\n",
       "    <tr>\n",
       "      <th>1</th>\n",
       "      <td>710000.0</td>\n",
       "      <td>8731.682878</td>\n",
       "      <td>721.908407</td>\n",
       "      <td>331.165289</td>\n",
       "      <td>1814.968989</td>\n",
       "      <td>173.496081</td>\n",
       "      <td>438.053245</td>\n",
       "      <td>1328.297563</td>\n",
       "      <td>2.0</td>\n",
       "      <td>63.3</td>\n",
       "      <td>133.0</td>\n",
       "    </tr>\n",
       "    <tr>\n",
       "      <th>2</th>\n",
       "      <td>510000.0</td>\n",
       "      <td>10681.260240</td>\n",
       "      <td>1653.971961</td>\n",
       "      <td>418.518565</td>\n",
       "      <td>418.717092</td>\n",
       "      <td>1150.014061</td>\n",
       "      <td>1813.918263</td>\n",
       "      <td>1107.882950</td>\n",
       "      <td>14.0</td>\n",
       "      <td>78.9</td>\n",
       "      <td>121.0</td>\n",
       "    </tr>\n",
       "    <tr>\n",
       "      <th>3</th>\n",
       "      <td>382000.0</td>\n",
       "      <td>13266.470820</td>\n",
       "      <td>1103.794101</td>\n",
       "      <td>890.396736</td>\n",
       "      <td>1295.660320</td>\n",
       "      <td>1585.189337</td>\n",
       "      <td>520.484512</td>\n",
       "      <td>1750.267136</td>\n",
       "      <td>5.0</td>\n",
       "      <td>93.3</td>\n",
       "      <td>92.0</td>\n",
       "    </tr>\n",
       "    <tr>\n",
       "      <th>4</th>\n",
       "      <td>380000.0</td>\n",
       "      <td>13337.111780</td>\n",
       "      <td>1117.652338</td>\n",
       "      <td>955.872009</td>\n",
       "      <td>1326.775610</td>\n",
       "      <td>1537.577048</td>\n",
       "      <td>584.991357</td>\n",
       "      <td>1687.852586</td>\n",
       "      <td>2.0</td>\n",
       "      <td>93.3</td>\n",
       "      <td>92.0</td>\n",
       "    </tr>\n",
       "    <tr>\n",
       "      <th>...</th>\n",
       "      <td>...</td>\n",
       "      <td>...</td>\n",
       "      <td>...</td>\n",
       "      <td>...</td>\n",
       "      <td>...</td>\n",
       "      <td>...</td>\n",
       "      <td>...</td>\n",
       "      <td>...</td>\n",
       "      <td>...</td>\n",
       "      <td>...</td>\n",
       "      <td>...</td>\n",
       "    </tr>\n",
       "    <tr>\n",
       "      <th>51814</th>\n",
       "      <td>230000.0</td>\n",
       "      <td>10125.643900</td>\n",
       "      <td>208.580023</td>\n",
       "      <td>246.605467</td>\n",
       "      <td>1031.590181</td>\n",
       "      <td>727.882679</td>\n",
       "      <td>298.726278</td>\n",
       "      <td>869.757017</td>\n",
       "      <td>5.0</td>\n",
       "      <td>56.1</td>\n",
       "      <td>44.0</td>\n",
       "    </tr>\n",
       "    <tr>\n",
       "      <th>51815</th>\n",
       "      <td>365000.0</td>\n",
       "      <td>9446.144286</td>\n",
       "      <td>482.958376</td>\n",
       "      <td>212.148185</td>\n",
       "      <td>1135.234100</td>\n",
       "      <td>919.691974</td>\n",
       "      <td>137.870595</td>\n",
       "      <td>296.758297</td>\n",
       "      <td>11.0</td>\n",
       "      <td>55.8</td>\n",
       "      <td>82.0</td>\n",
       "    </tr>\n",
       "    <tr>\n",
       "      <th>51816</th>\n",
       "      <td>305000.0</td>\n",
       "      <td>9251.897123</td>\n",
       "      <td>757.716383</td>\n",
       "      <td>264.770696</td>\n",
       "      <td>1078.680910</td>\n",
       "      <td>940.460113</td>\n",
       "      <td>143.393769</td>\n",
       "      <td>87.344311</td>\n",
       "      <td>5.0</td>\n",
       "      <td>55.3</td>\n",
       "      <td>67.0</td>\n",
       "    </tr>\n",
       "    <tr>\n",
       "      <th>51817</th>\n",
       "      <td>292000.0</td>\n",
       "      <td>9251.897123</td>\n",
       "      <td>757.716383</td>\n",
       "      <td>264.770696</td>\n",
       "      <td>1078.680910</td>\n",
       "      <td>940.460113</td>\n",
       "      <td>143.393769</td>\n",
       "      <td>87.344311</td>\n",
       "      <td>11.0</td>\n",
       "      <td>55.3</td>\n",
       "      <td>67.0</td>\n",
       "    </tr>\n",
       "    <tr>\n",
       "      <th>51818</th>\n",
       "      <td>320000.0</td>\n",
       "      <td>8783.218982</td>\n",
       "      <td>845.456512</td>\n",
       "      <td>306.156206</td>\n",
       "      <td>1443.675803</td>\n",
       "      <td>397.688186</td>\n",
       "      <td>364.944886</td>\n",
       "      <td>149.450807</td>\n",
       "      <td>11.0</td>\n",
       "      <td>58.8</td>\n",
       "      <td>68.0</td>\n",
       "    </tr>\n",
       "  </tbody>\n",
       "</table>\n",
       "<p>51819 rows × 11 columns</p>\n",
       "</div>"
      ],
      "text/plain": [
       "       resale_price    dis_to_cbd  min_dist_to_mrt  min_dist_to_school  \\\n",
       "0          260000.0   8731.682878       721.908407          331.165289   \n",
       "1          710000.0   8731.682878       721.908407          331.165289   \n",
       "2          510000.0  10681.260240      1653.971961          418.518565   \n",
       "3          382000.0  13266.470820      1103.794101          890.396736   \n",
       "4          380000.0  13337.111780      1117.652338          955.872009   \n",
       "...             ...           ...              ...                 ...   \n",
       "51814      230000.0  10125.643900       208.580023          246.605467   \n",
       "51815      365000.0   9446.144286       482.958376          212.148185   \n",
       "51816      305000.0   9251.897123       757.716383          264.770696   \n",
       "51817      292000.0   9251.897123       757.716383          264.770696   \n",
       "51818      320000.0   8783.218982       845.456512          306.156206   \n",
       "\n",
       "       min_dist_hospital  min_dist_to_park  min_dist_to_market  \\\n",
       "0            1814.968989        173.496081          438.053245   \n",
       "1            1814.968989        173.496081          438.053245   \n",
       "2             418.717092       1150.014061         1813.918263   \n",
       "3            1295.660320       1585.189337          520.484512   \n",
       "4            1326.775610       1537.577048          584.991357   \n",
       "...                  ...               ...                 ...   \n",
       "51814        1031.590181        727.882679          298.726278   \n",
       "51815        1135.234100        919.691974          137.870595   \n",
       "51816        1078.680910        940.460113          143.393769   \n",
       "51817        1078.680910        940.460113          143.393769   \n",
       "51818        1443.675803        397.688186          364.944886   \n",
       "\n",
       "       min_dist_to_facility  storey_median  remaining_lease_in_years  \\\n",
       "0               1328.297563            2.0                      63.3   \n",
       "1               1328.297563            2.0                      63.3   \n",
       "2               1107.882950           14.0                      78.9   \n",
       "3               1750.267136            5.0                      93.3   \n",
       "4               1687.852586            2.0                      93.3   \n",
       "...                     ...            ...                       ...   \n",
       "51814            869.757017            5.0                      56.1   \n",
       "51815            296.758297           11.0                      55.8   \n",
       "51816             87.344311            5.0                      55.3   \n",
       "51817             87.344311           11.0                      55.3   \n",
       "51818            149.450807           11.0                      58.8   \n",
       "\n",
       "       floor_area_sqm  \n",
       "0                67.0  \n",
       "1               133.0  \n",
       "2               121.0  \n",
       "3                92.0  \n",
       "4                92.0  \n",
       "...               ...  \n",
       "51814            44.0  \n",
       "51815            82.0  \n",
       "51816            67.0  \n",
       "51817            67.0  \n",
       "51818            68.0  \n",
       "\n",
       "[51819 rows x 11 columns]"
      ]
     },
     "execution_count": 5,
     "metadata": {},
     "output_type": "execute_result"
    }
   ],
   "source": [
    "scope_df = df[['resale_price','dis_to_cbd','min_dist_to_mrt','min_dist_to_school','min_dist_hospital','min_dist_to_park','min_dist_to_market','min_dist_to_facility','storey_median','remaining_lease_in_years','floor_area_sqm']]\n",
    "scope_df"
   ]
  },
  {
   "cell_type": "code",
   "execution_count": 6,
   "id": "1395581d",
   "metadata": {},
   "outputs": [
    {
     "data": {
      "text/html": [
       "<div>\n",
       "<style scoped>\n",
       "    .dataframe tbody tr th:only-of-type {\n",
       "        vertical-align: middle;\n",
       "    }\n",
       "\n",
       "    .dataframe tbody tr th {\n",
       "        vertical-align: top;\n",
       "    }\n",
       "\n",
       "    .dataframe thead th {\n",
       "        text-align: right;\n",
       "    }\n",
       "</style>\n",
       "<table border=\"1\" class=\"dataframe\">\n",
       "  <thead>\n",
       "    <tr style=\"text-align: right;\">\n",
       "      <th></th>\n",
       "      <th>resale_price</th>\n",
       "      <th>dis_to_cbd</th>\n",
       "      <th>min_dist_to_mrt</th>\n",
       "      <th>min_dist_to_school</th>\n",
       "      <th>min_dist_hospital</th>\n",
       "      <th>min_dist_to_park</th>\n",
       "      <th>min_dist_to_market</th>\n",
       "      <th>min_dist_to_facility</th>\n",
       "      <th>storey_median</th>\n",
       "      <th>remaining_lease_in_years</th>\n",
       "      <th>floor_area_sqm</th>\n",
       "    </tr>\n",
       "  </thead>\n",
       "  <tbody>\n",
       "    <tr>\n",
       "      <th>0</th>\n",
       "      <td>260000.0</td>\n",
       "      <td>8731.682878</td>\n",
       "      <td>721.908407</td>\n",
       "      <td>331.165289</td>\n",
       "      <td>1814.968989</td>\n",
       "      <td>173.496081</td>\n",
       "      <td>438.053245</td>\n",
       "      <td>1328.297563</td>\n",
       "      <td>2.0</td>\n",
       "      <td>63.3</td>\n",
       "      <td>67.0</td>\n",
       "    </tr>\n",
       "    <tr>\n",
       "      <th>1</th>\n",
       "      <td>710000.0</td>\n",
       "      <td>8731.682878</td>\n",
       "      <td>721.908407</td>\n",
       "      <td>331.165289</td>\n",
       "      <td>1814.968989</td>\n",
       "      <td>173.496081</td>\n",
       "      <td>438.053245</td>\n",
       "      <td>1328.297563</td>\n",
       "      <td>2.0</td>\n",
       "      <td>63.3</td>\n",
       "      <td>133.0</td>\n",
       "    </tr>\n",
       "    <tr>\n",
       "      <th>2</th>\n",
       "      <td>510000.0</td>\n",
       "      <td>10681.260240</td>\n",
       "      <td>1653.971961</td>\n",
       "      <td>418.518565</td>\n",
       "      <td>418.717092</td>\n",
       "      <td>1150.014061</td>\n",
       "      <td>1813.918263</td>\n",
       "      <td>1107.882950</td>\n",
       "      <td>14.0</td>\n",
       "      <td>78.9</td>\n",
       "      <td>121.0</td>\n",
       "    </tr>\n",
       "    <tr>\n",
       "      <th>3</th>\n",
       "      <td>382000.0</td>\n",
       "      <td>13266.470820</td>\n",
       "      <td>1103.794101</td>\n",
       "      <td>890.396736</td>\n",
       "      <td>1295.660320</td>\n",
       "      <td>1585.189337</td>\n",
       "      <td>520.484512</td>\n",
       "      <td>1750.267136</td>\n",
       "      <td>5.0</td>\n",
       "      <td>93.3</td>\n",
       "      <td>92.0</td>\n",
       "    </tr>\n",
       "    <tr>\n",
       "      <th>4</th>\n",
       "      <td>380000.0</td>\n",
       "      <td>13337.111780</td>\n",
       "      <td>1117.652338</td>\n",
       "      <td>955.872009</td>\n",
       "      <td>1326.775610</td>\n",
       "      <td>1537.577048</td>\n",
       "      <td>584.991357</td>\n",
       "      <td>1687.852586</td>\n",
       "      <td>2.0</td>\n",
       "      <td>93.3</td>\n",
       "      <td>92.0</td>\n",
       "    </tr>\n",
       "    <tr>\n",
       "      <th>...</th>\n",
       "      <td>...</td>\n",
       "      <td>...</td>\n",
       "      <td>...</td>\n",
       "      <td>...</td>\n",
       "      <td>...</td>\n",
       "      <td>...</td>\n",
       "      <td>...</td>\n",
       "      <td>...</td>\n",
       "      <td>...</td>\n",
       "      <td>...</td>\n",
       "      <td>...</td>\n",
       "    </tr>\n",
       "    <tr>\n",
       "      <th>51814</th>\n",
       "      <td>230000.0</td>\n",
       "      <td>10125.643900</td>\n",
       "      <td>208.580023</td>\n",
       "      <td>246.605467</td>\n",
       "      <td>1031.590181</td>\n",
       "      <td>727.882679</td>\n",
       "      <td>298.726278</td>\n",
       "      <td>869.757017</td>\n",
       "      <td>5.0</td>\n",
       "      <td>56.1</td>\n",
       "      <td>44.0</td>\n",
       "    </tr>\n",
       "    <tr>\n",
       "      <th>51815</th>\n",
       "      <td>365000.0</td>\n",
       "      <td>9446.144286</td>\n",
       "      <td>482.958376</td>\n",
       "      <td>212.148185</td>\n",
       "      <td>1135.234100</td>\n",
       "      <td>919.691974</td>\n",
       "      <td>137.870595</td>\n",
       "      <td>296.758297</td>\n",
       "      <td>11.0</td>\n",
       "      <td>55.8</td>\n",
       "      <td>82.0</td>\n",
       "    </tr>\n",
       "    <tr>\n",
       "      <th>51816</th>\n",
       "      <td>305000.0</td>\n",
       "      <td>9251.897123</td>\n",
       "      <td>757.716383</td>\n",
       "      <td>264.770696</td>\n",
       "      <td>1078.680910</td>\n",
       "      <td>940.460113</td>\n",
       "      <td>143.393769</td>\n",
       "      <td>87.344311</td>\n",
       "      <td>5.0</td>\n",
       "      <td>55.3</td>\n",
       "      <td>67.0</td>\n",
       "    </tr>\n",
       "    <tr>\n",
       "      <th>51817</th>\n",
       "      <td>292000.0</td>\n",
       "      <td>9251.897123</td>\n",
       "      <td>757.716383</td>\n",
       "      <td>264.770696</td>\n",
       "      <td>1078.680910</td>\n",
       "      <td>940.460113</td>\n",
       "      <td>143.393769</td>\n",
       "      <td>87.344311</td>\n",
       "      <td>11.0</td>\n",
       "      <td>55.3</td>\n",
       "      <td>67.0</td>\n",
       "    </tr>\n",
       "    <tr>\n",
       "      <th>51818</th>\n",
       "      <td>320000.0</td>\n",
       "      <td>8783.218982</td>\n",
       "      <td>845.456512</td>\n",
       "      <td>306.156206</td>\n",
       "      <td>1443.675803</td>\n",
       "      <td>397.688186</td>\n",
       "      <td>364.944886</td>\n",
       "      <td>149.450807</td>\n",
       "      <td>11.0</td>\n",
       "      <td>58.8</td>\n",
       "      <td>68.0</td>\n",
       "    </tr>\n",
       "  </tbody>\n",
       "</table>\n",
       "<p>51711 rows × 11 columns</p>\n",
       "</div>"
      ],
      "text/plain": [
       "       resale_price    dis_to_cbd  min_dist_to_mrt  min_dist_to_school  \\\n",
       "0          260000.0   8731.682878       721.908407          331.165289   \n",
       "1          710000.0   8731.682878       721.908407          331.165289   \n",
       "2          510000.0  10681.260240      1653.971961          418.518565   \n",
       "3          382000.0  13266.470820      1103.794101          890.396736   \n",
       "4          380000.0  13337.111780      1117.652338          955.872009   \n",
       "...             ...           ...              ...                 ...   \n",
       "51814      230000.0  10125.643900       208.580023          246.605467   \n",
       "51815      365000.0   9446.144286       482.958376          212.148185   \n",
       "51816      305000.0   9251.897123       757.716383          264.770696   \n",
       "51817      292000.0   9251.897123       757.716383          264.770696   \n",
       "51818      320000.0   8783.218982       845.456512          306.156206   \n",
       "\n",
       "       min_dist_hospital  min_dist_to_park  min_dist_to_market  \\\n",
       "0            1814.968989        173.496081          438.053245   \n",
       "1            1814.968989        173.496081          438.053245   \n",
       "2             418.717092       1150.014061         1813.918263   \n",
       "3            1295.660320       1585.189337          520.484512   \n",
       "4            1326.775610       1537.577048          584.991357   \n",
       "...                  ...               ...                 ...   \n",
       "51814        1031.590181        727.882679          298.726278   \n",
       "51815        1135.234100        919.691974          137.870595   \n",
       "51816        1078.680910        940.460113          143.393769   \n",
       "51817        1078.680910        940.460113          143.393769   \n",
       "51818        1443.675803        397.688186          364.944886   \n",
       "\n",
       "       min_dist_to_facility  storey_median  remaining_lease_in_years  \\\n",
       "0               1328.297563            2.0                      63.3   \n",
       "1               1328.297563            2.0                      63.3   \n",
       "2               1107.882950           14.0                      78.9   \n",
       "3               1750.267136            5.0                      93.3   \n",
       "4               1687.852586            2.0                      93.3   \n",
       "...                     ...            ...                       ...   \n",
       "51814            869.757017            5.0                      56.1   \n",
       "51815            296.758297           11.0                      55.8   \n",
       "51816             87.344311            5.0                      55.3   \n",
       "51817             87.344311           11.0                      55.3   \n",
       "51818            149.450807           11.0                      58.8   \n",
       "\n",
       "       floor_area_sqm  \n",
       "0                67.0  \n",
       "1               133.0  \n",
       "2               121.0  \n",
       "3                92.0  \n",
       "4                92.0  \n",
       "...               ...  \n",
       "51814            44.0  \n",
       "51815            82.0  \n",
       "51816            67.0  \n",
       "51817            67.0  \n",
       "51818            68.0  \n",
       "\n",
       "[51711 rows x 11 columns]"
      ]
     },
     "execution_count": 6,
     "metadata": {},
     "output_type": "execute_result"
    }
   ],
   "source": [
    "scope_df = scope_df.drop_duplicates()\n",
    "scope_df"
   ]
  },
  {
   "cell_type": "code",
   "execution_count": 7,
   "id": "c10327c4",
   "metadata": {},
   "outputs": [
    {
     "data": {
      "text/plain": [
       "resale_price                float64\n",
       "dis_to_cbd                  float64\n",
       "min_dist_to_mrt             float64\n",
       "min_dist_to_school          float64\n",
       "min_dist_hospital           float64\n",
       "min_dist_to_park            float64\n",
       "min_dist_to_market          float64\n",
       "min_dist_to_facility        float64\n",
       "storey_median               float64\n",
       "remaining_lease_in_years    float64\n",
       "floor_area_sqm              float64\n",
       "dtype: object"
      ]
     },
     "execution_count": 7,
     "metadata": {},
     "output_type": "execute_result"
    }
   ],
   "source": [
    "scope_df.dtypes"
   ]
  },
  {
   "cell_type": "code",
   "execution_count": 8,
   "id": "f0982151",
   "metadata": {},
   "outputs": [
    {
     "data": {
      "text/plain": [
       "<AxesSubplot:>"
      ]
     },
     "execution_count": 8,
     "metadata": {},
     "output_type": "execute_result"
    },
    {
     "data": {
      "image/png": "[encoded data removed]",
      "text/plain": [
       "<Figure size 432x288 with 2 Axes>"
      ]
     },
     "metadata": {
      "needs_background": "light"
     },
     "output_type": "display_data"
    }
   ],
   "source": [
    "#Correlation Analysis\n",
    "\n",
    "import seaborn as sns\n",
    "\n",
    "corrMatrix = scope_df.corr()\n",
    "sns.heatmap(corrMatrix, \n",
    "        xticklabels=corrMatrix.columns,\n",
    "        yticklabels=corrMatrix.columns,\n",
    "        cmap='Greens', # https://matplotlib.org/stable/tutorials/colors/colormaps.html\n",
    "        annot=True)"
   ]
  },
  {
   "cell_type": "code",
   "execution_count": 9,
   "id": "330e7e3b",
   "metadata": {},
   "outputs": [
    {
     "data": {
      "image/png": "[encoded data removed]",
      "text/plain": [
       "<Figure size 432x288 with 1 Axes>"
      ]
     },
     "metadata": {
      "needs_background": "light"
     },
     "output_type": "display_data"
    }
   ],
   "source": [
    "plt.scatter(x = \"resale_price\" , y =\"floor_area_sqm\" , data = df)\n",
    "plt.xlabel(\"HDB Resale Price\")\n",
    "plt.ylabel(\"Floor Area\")\n",
    "plt.title(\"Price vs Floor Area\")\n",
    "\n",
    "plt.show()"
   ]
  },
  {
   "cell_type": "code",
   "execution_count": 10,
   "id": "0569dfcd",
   "metadata": {},
   "outputs": [
    {
     "data": {
      "image/png": "[encoded data removed]",
      "text/plain": [
       "<Figure size 432x288 with 1 Axes>"
      ]
     },
     "metadata": {
      "needs_background": "light"
     },
     "output_type": "display_data"
    }
   ],
   "source": [
    "plt.scatter(x = \"resale_price\" , y =\"flat_type\" , data = df)\n",
    "plt.xlabel(\"HDB Resale Price\")\n",
    "plt.ylabel(\"Flat Type\")\n",
    "plt.title(\"Price vs Flat Type\")\n",
    "plt.show()"
   ]
  },
  {
   "cell_type": "code",
   "execution_count": 11,
   "id": "e958cdfa",
   "metadata": {},
   "outputs": [
    {
     "data": {
      "image/png": "[encoded data removed]",
      "text/plain": [
       "<Figure size 432x288 with 1 Axes>"
      ]
     },
     "metadata": {
      "needs_background": "light"
     },
     "output_type": "display_data"
    }
   ],
   "source": [
    "plt.scatter(x = \"resale_price\" , y =\"lease_commence_date\" , data = df)\n",
    "plt.xlabel(\"HDB Resale Price\")\n",
    "plt.ylabel(\"HDB TOP DATE\")\n",
    "plt.title(\"Price vs HDB Age\")\n",
    "plt.show()"
   ]
  },
  {
   "cell_type": "code",
   "execution_count": 12,
   "id": "7433fcf0",
   "metadata": {},
   "outputs": [
    {
     "data": {
      "text/html": [
       "<div>\n",
       "<style scoped>\n",
       "    .dataframe tbody tr th:only-of-type {\n",
       "        vertical-align: middle;\n",
       "    }\n",
       "\n",
       "    .dataframe tbody tr th {\n",
       "        vertical-align: top;\n",
       "    }\n",
       "\n",
       "    .dataframe thead th {\n",
       "        text-align: right;\n",
       "    }\n",
       "</style>\n",
       "<table border=\"1\" class=\"dataframe\">\n",
       "  <thead>\n",
       "    <tr style=\"text-align: right;\">\n",
       "      <th></th>\n",
       "      <th>month</th>\n",
       "      <th>new_address</th>\n",
       "      <th>postal_code</th>\n",
       "      <th>town</th>\n",
       "      <th>flat_type</th>\n",
       "      <th>storey_range</th>\n",
       "      <th>storey_from</th>\n",
       "      <th>storey_to</th>\n",
       "      <th>floor_area_sqm</th>\n",
       "      <th>flat_model</th>\n",
       "      <th>...</th>\n",
       "      <th>remaining_lease_in_years</th>\n",
       "      <th>dis_to_cbd</th>\n",
       "      <th>min_dist_to_mrt</th>\n",
       "      <th>min_dist_to_school</th>\n",
       "      <th>min_dist_hospital</th>\n",
       "      <th>min_dist_to_park</th>\n",
       "      <th>min_dist_to_market</th>\n",
       "      <th>min_dist_to_facility</th>\n",
       "      <th>resale_price</th>\n",
       "      <th>storey_median</th>\n",
       "    </tr>\n",
       "  </thead>\n",
       "  <tbody>\n",
       "    <tr>\n",
       "      <th>0</th>\n",
       "      <td>2019</td>\n",
       "      <td>122 HOUGANG AVENUE 1</td>\n",
       "      <td>530122</td>\n",
       "      <td>HOUGANG</td>\n",
       "      <td>3</td>\n",
       "      <td>01 TO 03</td>\n",
       "      <td>1</td>\n",
       "      <td>3</td>\n",
       "      <td>67.0</td>\n",
       "      <td>New Generation</td>\n",
       "      <td>...</td>\n",
       "      <td>63.3</td>\n",
       "      <td>8731.682878</td>\n",
       "      <td>721.908407</td>\n",
       "      <td>331.165289</td>\n",
       "      <td>1814.968989</td>\n",
       "      <td>173.496081</td>\n",
       "      <td>438.053245</td>\n",
       "      <td>1328.297563</td>\n",
       "      <td>260000.0</td>\n",
       "      <td>2.0</td>\n",
       "    </tr>\n",
       "    <tr>\n",
       "      <th>1</th>\n",
       "      <td>2019</td>\n",
       "      <td>122 HOUGANG AVENUE 1</td>\n",
       "      <td>530122</td>\n",
       "      <td>HOUGANG</td>\n",
       "      <td>5</td>\n",
       "      <td>01 TO 03</td>\n",
       "      <td>1</td>\n",
       "      <td>3</td>\n",
       "      <td>133.0</td>\n",
       "      <td>Improved-Maisonette</td>\n",
       "      <td>...</td>\n",
       "      <td>63.3</td>\n",
       "      <td>8731.682878</td>\n",
       "      <td>721.908407</td>\n",
       "      <td>331.165289</td>\n",
       "      <td>1814.968989</td>\n",
       "      <td>173.496081</td>\n",
       "      <td>438.053245</td>\n",
       "      <td>1328.297563</td>\n",
       "      <td>710000.0</td>\n",
       "      <td>2.0</td>\n",
       "    </tr>\n",
       "    <tr>\n",
       "      <th>2</th>\n",
       "      <td>2019</td>\n",
       "      <td>951 HOUGANG AVENUE 9</td>\n",
       "      <td>530951</td>\n",
       "      <td>HOUGANG</td>\n",
       "      <td>5</td>\n",
       "      <td>13 TO 15</td>\n",
       "      <td>13</td>\n",
       "      <td>15</td>\n",
       "      <td>121.0</td>\n",
       "      <td>Improved</td>\n",
       "      <td>...</td>\n",
       "      <td>78.9</td>\n",
       "      <td>10681.260240</td>\n",
       "      <td>1653.971961</td>\n",
       "      <td>418.518565</td>\n",
       "      <td>418.717092</td>\n",
       "      <td>1150.014061</td>\n",
       "      <td>1813.918263</td>\n",
       "      <td>1107.882950</td>\n",
       "      <td>510000.0</td>\n",
       "      <td>14.0</td>\n",
       "    </tr>\n",
       "    <tr>\n",
       "      <th>3</th>\n",
       "      <td>2019</td>\n",
       "      <td>21 TEBAN GARDENS ROAD</td>\n",
       "      <td>600021</td>\n",
       "      <td>JURONG EAST</td>\n",
       "      <td>4</td>\n",
       "      <td>04 TO 06</td>\n",
       "      <td>4</td>\n",
       "      <td>6</td>\n",
       "      <td>92.0</td>\n",
       "      <td>Model A</td>\n",
       "      <td>...</td>\n",
       "      <td>93.3</td>\n",
       "      <td>13266.470820</td>\n",
       "      <td>1103.794101</td>\n",
       "      <td>890.396736</td>\n",
       "      <td>1295.660320</td>\n",
       "      <td>1585.189337</td>\n",
       "      <td>520.484512</td>\n",
       "      <td>1750.267136</td>\n",
       "      <td>382000.0</td>\n",
       "      <td>5.0</td>\n",
       "    </tr>\n",
       "    <tr>\n",
       "      <th>4</th>\n",
       "      <td>2019</td>\n",
       "      <td>20 TEBAN GARDENS ROAD</td>\n",
       "      <td>600020</td>\n",
       "      <td>JURONG EAST</td>\n",
       "      <td>4</td>\n",
       "      <td>01 TO 03</td>\n",
       "      <td>1</td>\n",
       "      <td>3</td>\n",
       "      <td>92.0</td>\n",
       "      <td>Model A</td>\n",
       "      <td>...</td>\n",
       "      <td>93.3</td>\n",
       "      <td>13337.111780</td>\n",
       "      <td>1117.652338</td>\n",
       "      <td>955.872009</td>\n",
       "      <td>1326.775610</td>\n",
       "      <td>1537.577048</td>\n",
       "      <td>584.991357</td>\n",
       "      <td>1687.852586</td>\n",
       "      <td>380000.0</td>\n",
       "      <td>2.0</td>\n",
       "    </tr>\n",
       "    <tr>\n",
       "      <th>...</th>\n",
       "      <td>...</td>\n",
       "      <td>...</td>\n",
       "      <td>...</td>\n",
       "      <td>...</td>\n",
       "      <td>...</td>\n",
       "      <td>...</td>\n",
       "      <td>...</td>\n",
       "      <td>...</td>\n",
       "      <td>...</td>\n",
       "      <td>...</td>\n",
       "      <td>...</td>\n",
       "      <td>...</td>\n",
       "      <td>...</td>\n",
       "      <td>...</td>\n",
       "      <td>...</td>\n",
       "      <td>...</td>\n",
       "      <td>...</td>\n",
       "      <td>...</td>\n",
       "      <td>...</td>\n",
       "      <td>...</td>\n",
       "      <td>...</td>\n",
       "    </tr>\n",
       "    <tr>\n",
       "      <th>51814</th>\n",
       "      <td>2021</td>\n",
       "      <td>116 ANG MO KIO AVENUE 4</td>\n",
       "      <td>560116</td>\n",
       "      <td>ANG MO KIO</td>\n",
       "      <td>2</td>\n",
       "      <td>04 TO 06</td>\n",
       "      <td>4</td>\n",
       "      <td>6</td>\n",
       "      <td>44.0</td>\n",
       "      <td>Improved</td>\n",
       "      <td>...</td>\n",
       "      <td>56.1</td>\n",
       "      <td>10125.643900</td>\n",
       "      <td>208.580023</td>\n",
       "      <td>246.605467</td>\n",
       "      <td>1031.590181</td>\n",
       "      <td>727.882679</td>\n",
       "      <td>298.726278</td>\n",
       "      <td>869.757017</td>\n",
       "      <td>230000.0</td>\n",
       "      <td>5.0</td>\n",
       "    </tr>\n",
       "    <tr>\n",
       "      <th>51815</th>\n",
       "      <td>2021</td>\n",
       "      <td>225 ANG MO KIO AVENUE 1</td>\n",
       "      <td>560225</td>\n",
       "      <td>ANG MO KIO</td>\n",
       "      <td>3</td>\n",
       "      <td>10 TO 12</td>\n",
       "      <td>10</td>\n",
       "      <td>12</td>\n",
       "      <td>82.0</td>\n",
       "      <td>New Generation</td>\n",
       "      <td>...</td>\n",
       "      <td>55.8</td>\n",
       "      <td>9446.144286</td>\n",
       "      <td>482.958376</td>\n",
       "      <td>212.148185</td>\n",
       "      <td>1135.234100</td>\n",
       "      <td>919.691974</td>\n",
       "      <td>137.870595</td>\n",
       "      <td>296.758297</td>\n",
       "      <td>365000.0</td>\n",
       "      <td>11.0</td>\n",
       "    </tr>\n",
       "    <tr>\n",
       "      <th>51816</th>\n",
       "      <td>2021</td>\n",
       "      <td>219 ANG MO KIO AVENUE 1</td>\n",
       "      <td>560219</td>\n",
       "      <td>ANG MO KIO</td>\n",
       "      <td>3</td>\n",
       "      <td>04 TO 06</td>\n",
       "      <td>4</td>\n",
       "      <td>6</td>\n",
       "      <td>67.0</td>\n",
       "      <td>New Generation</td>\n",
       "      <td>...</td>\n",
       "      <td>55.3</td>\n",
       "      <td>9251.897123</td>\n",
       "      <td>757.716383</td>\n",
       "      <td>264.770696</td>\n",
       "      <td>1078.680910</td>\n",
       "      <td>940.460113</td>\n",
       "      <td>143.393769</td>\n",
       "      <td>87.344311</td>\n",
       "      <td>305000.0</td>\n",
       "      <td>5.0</td>\n",
       "    </tr>\n",
       "    <tr>\n",
       "      <th>51817</th>\n",
       "      <td>2021</td>\n",
       "      <td>219 ANG MO KIO AVENUE 1</td>\n",
       "      <td>560219</td>\n",
       "      <td>ANG MO KIO</td>\n",
       "      <td>3</td>\n",
       "      <td>10 TO 12</td>\n",
       "      <td>10</td>\n",
       "      <td>12</td>\n",
       "      <td>67.0</td>\n",
       "      <td>New Generation</td>\n",
       "      <td>...</td>\n",
       "      <td>55.3</td>\n",
       "      <td>9251.897123</td>\n",
       "      <td>757.716383</td>\n",
       "      <td>264.770696</td>\n",
       "      <td>1078.680910</td>\n",
       "      <td>940.460113</td>\n",
       "      <td>143.393769</td>\n",
       "      <td>87.344311</td>\n",
       "      <td>292000.0</td>\n",
       "      <td>11.0</td>\n",
       "    </tr>\n",
       "    <tr>\n",
       "      <th>51818</th>\n",
       "      <td>2021</td>\n",
       "      <td>330 ANG MO KIO AVENUE 1</td>\n",
       "      <td>560330</td>\n",
       "      <td>ANG MO KIO</td>\n",
       "      <td>3</td>\n",
       "      <td>10 TO 12</td>\n",
       "      <td>10</td>\n",
       "      <td>12</td>\n",
       "      <td>68.0</td>\n",
       "      <td>New Generation</td>\n",
       "      <td>...</td>\n",
       "      <td>58.8</td>\n",
       "      <td>8783.218982</td>\n",
       "      <td>845.456512</td>\n",
       "      <td>306.156206</td>\n",
       "      <td>1443.675803</td>\n",
       "      <td>397.688186</td>\n",
       "      <td>364.944886</td>\n",
       "      <td>149.450807</td>\n",
       "      <td>320000.0</td>\n",
       "      <td>11.0</td>\n",
       "    </tr>\n",
       "  </tbody>\n",
       "</table>\n",
       "<p>51819 rows × 21 columns</p>\n",
       "</div>"
      ],
      "text/plain": [
       "       month              new_address  postal_code         town  flat_type  \\\n",
       "0       2019     122 HOUGANG AVENUE 1       530122      HOUGANG          3   \n",
       "1       2019     122 HOUGANG AVENUE 1       530122      HOUGANG          5   \n",
       "2       2019     951 HOUGANG AVENUE 9       530951      HOUGANG          5   \n",
       "3       2019    21 TEBAN GARDENS ROAD       600021  JURONG EAST          4   \n",
       "4       2019    20 TEBAN GARDENS ROAD       600020  JURONG EAST          4   \n",
       "...      ...                      ...          ...          ...        ...   \n",
       "51814   2021  116 ANG MO KIO AVENUE 4       560116   ANG MO KIO          2   \n",
       "51815   2021  225 ANG MO KIO AVENUE 1       560225   ANG MO KIO          3   \n",
       "51816   2021  219 ANG MO KIO AVENUE 1       560219   ANG MO KIO          3   \n",
       "51817   2021  219 ANG MO KIO AVENUE 1       560219   ANG MO KIO          3   \n",
       "51818   2021  330 ANG MO KIO AVENUE 1       560330   ANG MO KIO          3   \n",
       "\n",
       "      storey_range  storey_from  storey_to  floor_area_sqm  \\\n",
       "0         01 TO 03            1          3            67.0   \n",
       "1         01 TO 03            1          3           133.0   \n",
       "2         13 TO 15           13         15           121.0   \n",
       "3         04 TO 06            4          6            92.0   \n",
       "4         01 TO 03            1          3            92.0   \n",
       "...            ...          ...        ...             ...   \n",
       "51814     04 TO 06            4          6            44.0   \n",
       "51815     10 TO 12           10         12            82.0   \n",
       "51816     04 TO 06            4          6            67.0   \n",
       "51817     10 TO 12           10         12            67.0   \n",
       "51818     10 TO 12           10         12            68.0   \n",
       "\n",
       "                flat_model  ...  remaining_lease_in_years    dis_to_cbd  \\\n",
       "0           New Generation  ...                      63.3   8731.682878   \n",
       "1      Improved-Maisonette  ...                      63.3   8731.682878   \n",
       "2                 Improved  ...                      78.9  10681.260240   \n",
       "3                  Model A  ...                      93.3  13266.470820   \n",
       "4                  Model A  ...                      93.3  13337.111780   \n",
       "...                    ...  ...                       ...           ...   \n",
       "51814             Improved  ...                      56.1  10125.643900   \n",
       "51815       New Generation  ...                      55.8   9446.144286   \n",
       "51816       New Generation  ...                      55.3   9251.897123   \n",
       "51817       New Generation  ...                      55.3   9251.897123   \n",
       "51818       New Generation  ...                      58.8   8783.218982   \n",
       "\n",
       "       min_dist_to_mrt  min_dist_to_school  min_dist_hospital  \\\n",
       "0           721.908407          331.165289        1814.968989   \n",
       "1           721.908407          331.165289        1814.968989   \n",
       "2          1653.971961          418.518565         418.717092   \n",
       "3          1103.794101          890.396736        1295.660320   \n",
       "4          1117.652338          955.872009        1326.775610   \n",
       "...                ...                 ...                ...   \n",
       "51814       208.580023          246.605467        1031.590181   \n",
       "51815       482.958376          212.148185        1135.234100   \n",
       "51816       757.716383          264.770696        1078.680910   \n",
       "51817       757.716383          264.770696        1078.680910   \n",
       "51818       845.456512          306.156206        1443.675803   \n",
       "\n",
       "       min_dist_to_park  min_dist_to_market  min_dist_to_facility  \\\n",
       "0            173.496081          438.053245           1328.297563   \n",
       "1            173.496081          438.053245           1328.297563   \n",
       "2           1150.014061         1813.918263           1107.882950   \n",
       "3           1585.189337          520.484512           1750.267136   \n",
       "4           1537.577048          584.991357           1687.852586   \n",
       "...                 ...                 ...                   ...   \n",
       "51814        727.882679          298.726278            869.757017   \n",
       "51815        919.691974          137.870595            296.758297   \n",
       "51816        940.460113          143.393769             87.344311   \n",
       "51817        940.460113          143.393769             87.344311   \n",
       "51818        397.688186          364.944886            149.450807   \n",
       "\n",
       "       resale_price  storey_median  \n",
       "0          260000.0            2.0  \n",
       "1          710000.0            2.0  \n",
       "2          510000.0           14.0  \n",
       "3          382000.0            5.0  \n",
       "4          380000.0            2.0  \n",
       "...             ...            ...  \n",
       "51814      230000.0            5.0  \n",
       "51815      365000.0           11.0  \n",
       "51816      305000.0            5.0  \n",
       "51817      292000.0           11.0  \n",
       "51818      320000.0           11.0  \n",
       "\n",
       "[51819 rows x 21 columns]"
      ]
     },
     "execution_count": 12,
     "metadata": {},
     "output_type": "execute_result"
    }
   ],
   "source": [
    "df"
   ]
  },
  {
   "cell_type": "code",
   "execution_count": 13,
   "id": "7a3667f5",
   "metadata": {},
   "outputs": [
    {
     "data": {
      "text/html": [
       "<div>\n",
       "<style scoped>\n",
       "    .dataframe tbody tr th:only-of-type {\n",
       "        vertical-align: middle;\n",
       "    }\n",
       "\n",
       "    .dataframe tbody tr th {\n",
       "        vertical-align: top;\n",
       "    }\n",
       "\n",
       "    .dataframe thead th {\n",
       "        text-align: right;\n",
       "    }\n",
       "</style>\n",
       "<table border=\"1\" class=\"dataframe\">\n",
       "  <thead>\n",
       "    <tr style=\"text-align: right;\">\n",
       "      <th></th>\n",
       "      <th>month</th>\n",
       "      <th>postal_code</th>\n",
       "      <th>flat_type</th>\n",
       "      <th>storey_from</th>\n",
       "      <th>storey_to</th>\n",
       "      <th>floor_area_sqm</th>\n",
       "      <th>lease_commence_date</th>\n",
       "      <th>remaining_lease_in_years</th>\n",
       "      <th>dis_to_cbd</th>\n",
       "      <th>min_dist_to_mrt</th>\n",
       "      <th>min_dist_to_school</th>\n",
       "      <th>min_dist_hospital</th>\n",
       "      <th>min_dist_to_park</th>\n",
       "      <th>min_dist_to_market</th>\n",
       "      <th>min_dist_to_facility</th>\n",
       "      <th>resale_price</th>\n",
       "    </tr>\n",
       "  </thead>\n",
       "  <tbody>\n",
       "    <tr>\n",
       "      <th>0</th>\n",
       "      <td>2019</td>\n",
       "      <td>530122</td>\n",
       "      <td>3</td>\n",
       "      <td>1</td>\n",
       "      <td>3</td>\n",
       "      <td>67.0</td>\n",
       "      <td>1983</td>\n",
       "      <td>63.3</td>\n",
       "      <td>8731.682878</td>\n",
       "      <td>721.908407</td>\n",
       "      <td>331.165289</td>\n",
       "      <td>1814.968989</td>\n",
       "      <td>173.496081</td>\n",
       "      <td>438.053245</td>\n",
       "      <td>1328.297563</td>\n",
       "      <td>260000.0</td>\n",
       "    </tr>\n",
       "    <tr>\n",
       "      <th>1</th>\n",
       "      <td>2019</td>\n",
       "      <td>530122</td>\n",
       "      <td>5</td>\n",
       "      <td>1</td>\n",
       "      <td>3</td>\n",
       "      <td>133.0</td>\n",
       "      <td>1983</td>\n",
       "      <td>63.3</td>\n",
       "      <td>8731.682878</td>\n",
       "      <td>721.908407</td>\n",
       "      <td>331.165289</td>\n",
       "      <td>1814.968989</td>\n",
       "      <td>173.496081</td>\n",
       "      <td>438.053245</td>\n",
       "      <td>1328.297563</td>\n",
       "      <td>710000.0</td>\n",
       "    </tr>\n",
       "    <tr>\n",
       "      <th>2</th>\n",
       "      <td>2019</td>\n",
       "      <td>530951</td>\n",
       "      <td>5</td>\n",
       "      <td>13</td>\n",
       "      <td>15</td>\n",
       "      <td>121.0</td>\n",
       "      <td>1999</td>\n",
       "      <td>78.9</td>\n",
       "      <td>10681.260240</td>\n",
       "      <td>1653.971961</td>\n",
       "      <td>418.518565</td>\n",
       "      <td>418.717092</td>\n",
       "      <td>1150.014061</td>\n",
       "      <td>1813.918263</td>\n",
       "      <td>1107.882950</td>\n",
       "      <td>510000.0</td>\n",
       "    </tr>\n",
       "    <tr>\n",
       "      <th>3</th>\n",
       "      <td>2019</td>\n",
       "      <td>600021</td>\n",
       "      <td>4</td>\n",
       "      <td>4</td>\n",
       "      <td>6</td>\n",
       "      <td>92.0</td>\n",
       "      <td>2013</td>\n",
       "      <td>93.3</td>\n",
       "      <td>13266.470820</td>\n",
       "      <td>1103.794101</td>\n",
       "      <td>890.396736</td>\n",
       "      <td>1295.660320</td>\n",
       "      <td>1585.189337</td>\n",
       "      <td>520.484512</td>\n",
       "      <td>1750.267136</td>\n",
       "      <td>382000.0</td>\n",
       "    </tr>\n",
       "    <tr>\n",
       "      <th>4</th>\n",
       "      <td>2019</td>\n",
       "      <td>600020</td>\n",
       "      <td>4</td>\n",
       "      <td>1</td>\n",
       "      <td>3</td>\n",
       "      <td>92.0</td>\n",
       "      <td>2013</td>\n",
       "      <td>93.3</td>\n",
       "      <td>13337.111780</td>\n",
       "      <td>1117.652338</td>\n",
       "      <td>955.872009</td>\n",
       "      <td>1326.775610</td>\n",
       "      <td>1537.577048</td>\n",
       "      <td>584.991357</td>\n",
       "      <td>1687.852586</td>\n",
       "      <td>380000.0</td>\n",
       "    </tr>\n",
       "    <tr>\n",
       "      <th>...</th>\n",
       "      <td>...</td>\n",
       "      <td>...</td>\n",
       "      <td>...</td>\n",
       "      <td>...</td>\n",
       "      <td>...</td>\n",
       "      <td>...</td>\n",
       "      <td>...</td>\n",
       "      <td>...</td>\n",
       "      <td>...</td>\n",
       "      <td>...</td>\n",
       "      <td>...</td>\n",
       "      <td>...</td>\n",
       "      <td>...</td>\n",
       "      <td>...</td>\n",
       "      <td>...</td>\n",
       "      <td>...</td>\n",
       "    </tr>\n",
       "    <tr>\n",
       "      <th>51814</th>\n",
       "      <td>2021</td>\n",
       "      <td>560116</td>\n",
       "      <td>2</td>\n",
       "      <td>4</td>\n",
       "      <td>6</td>\n",
       "      <td>44.0</td>\n",
       "      <td>1978</td>\n",
       "      <td>56.1</td>\n",
       "      <td>10125.643900</td>\n",
       "      <td>208.580023</td>\n",
       "      <td>246.605467</td>\n",
       "      <td>1031.590181</td>\n",
       "      <td>727.882679</td>\n",
       "      <td>298.726278</td>\n",
       "      <td>869.757017</td>\n",
       "      <td>230000.0</td>\n",
       "    </tr>\n",
       "    <tr>\n",
       "      <th>51815</th>\n",
       "      <td>2021</td>\n",
       "      <td>560225</td>\n",
       "      <td>3</td>\n",
       "      <td>10</td>\n",
       "      <td>12</td>\n",
       "      <td>82.0</td>\n",
       "      <td>1978</td>\n",
       "      <td>55.8</td>\n",
       "      <td>9446.144286</td>\n",
       "      <td>482.958376</td>\n",
       "      <td>212.148185</td>\n",
       "      <td>1135.234100</td>\n",
       "      <td>919.691974</td>\n",
       "      <td>137.870595</td>\n",
       "      <td>296.758297</td>\n",
       "      <td>365000.0</td>\n",
       "    </tr>\n",
       "    <tr>\n",
       "      <th>51816</th>\n",
       "      <td>2021</td>\n",
       "      <td>560219</td>\n",
       "      <td>3</td>\n",
       "      <td>4</td>\n",
       "      <td>6</td>\n",
       "      <td>67.0</td>\n",
       "      <td>1977</td>\n",
       "      <td>55.3</td>\n",
       "      <td>9251.897123</td>\n",
       "      <td>757.716383</td>\n",
       "      <td>264.770696</td>\n",
       "      <td>1078.680910</td>\n",
       "      <td>940.460113</td>\n",
       "      <td>143.393769</td>\n",
       "      <td>87.344311</td>\n",
       "      <td>305000.0</td>\n",
       "    </tr>\n",
       "    <tr>\n",
       "      <th>51817</th>\n",
       "      <td>2021</td>\n",
       "      <td>560219</td>\n",
       "      <td>3</td>\n",
       "      <td>10</td>\n",
       "      <td>12</td>\n",
       "      <td>67.0</td>\n",
       "      <td>1977</td>\n",
       "      <td>55.3</td>\n",
       "      <td>9251.897123</td>\n",
       "      <td>757.716383</td>\n",
       "      <td>264.770696</td>\n",
       "      <td>1078.680910</td>\n",
       "      <td>940.460113</td>\n",
       "      <td>143.393769</td>\n",
       "      <td>87.344311</td>\n",
       "      <td>292000.0</td>\n",
       "    </tr>\n",
       "    <tr>\n",
       "      <th>51818</th>\n",
       "      <td>2021</td>\n",
       "      <td>560330</td>\n",
       "      <td>3</td>\n",
       "      <td>10</td>\n",
       "      <td>12</td>\n",
       "      <td>68.0</td>\n",
       "      <td>1981</td>\n",
       "      <td>58.8</td>\n",
       "      <td>8783.218982</td>\n",
       "      <td>845.456512</td>\n",
       "      <td>306.156206</td>\n",
       "      <td>1443.675803</td>\n",
       "      <td>397.688186</td>\n",
       "      <td>364.944886</td>\n",
       "      <td>149.450807</td>\n",
       "      <td>320000.0</td>\n",
       "    </tr>\n",
       "  </tbody>\n",
       "</table>\n",
       "<p>51819 rows × 16 columns</p>\n",
       "</div>"
      ],
      "text/plain": [
       "       month  postal_code  flat_type  storey_from  storey_to  floor_area_sqm  \\\n",
       "0       2019       530122          3            1          3            67.0   \n",
       "1       2019       530122          5            1          3           133.0   \n",
       "2       2019       530951          5           13         15           121.0   \n",
       "3       2019       600021          4            4          6            92.0   \n",
       "4       2019       600020          4            1          3            92.0   \n",
       "...      ...          ...        ...          ...        ...             ...   \n",
       "51814   2021       560116          2            4          6            44.0   \n",
       "51815   2021       560225          3           10         12            82.0   \n",
       "51816   2021       560219          3            4          6            67.0   \n",
       "51817   2021       560219          3           10         12            67.0   \n",
       "51818   2021       560330          3           10         12            68.0   \n",
       "\n",
       "       lease_commence_date  remaining_lease_in_years    dis_to_cbd  \\\n",
       "0                     1983                      63.3   8731.682878   \n",
       "1                     1983                      63.3   8731.682878   \n",
       "2                     1999                      78.9  10681.260240   \n",
       "3                     2013                      93.3  13266.470820   \n",
       "4                     2013                      93.3  13337.111780   \n",
       "...                    ...                       ...           ...   \n",
       "51814                 1978                      56.1  10125.643900   \n",
       "51815                 1978                      55.8   9446.144286   \n",
       "51816                 1977                      55.3   9251.897123   \n",
       "51817                 1977                      55.3   9251.897123   \n",
       "51818                 1981                      58.8   8783.218982   \n",
       "\n",
       "       min_dist_to_mrt  min_dist_to_school  min_dist_hospital  \\\n",
       "0           721.908407          331.165289        1814.968989   \n",
       "1           721.908407          331.165289        1814.968989   \n",
       "2          1653.971961          418.518565         418.717092   \n",
       "3          1103.794101          890.396736        1295.660320   \n",
       "4          1117.652338          955.872009        1326.775610   \n",
       "...                ...                 ...                ...   \n",
       "51814       208.580023          246.605467        1031.590181   \n",
       "51815       482.958376          212.148185        1135.234100   \n",
       "51816       757.716383          264.770696        1078.680910   \n",
       "51817       757.716383          264.770696        1078.680910   \n",
       "51818       845.456512          306.156206        1443.675803   \n",
       "\n",
       "       min_dist_to_park  min_dist_to_market  min_dist_to_facility  \\\n",
       "0            173.496081          438.053245           1328.297563   \n",
       "1            173.496081          438.053245           1328.297563   \n",
       "2           1150.014061         1813.918263           1107.882950   \n",
       "3           1585.189337          520.484512           1750.267136   \n",
       "4           1537.577048          584.991357           1687.852586   \n",
       "...                 ...                 ...                   ...   \n",
       "51814        727.882679          298.726278            869.757017   \n",
       "51815        919.691974          137.870595            296.758297   \n",
       "51816        940.460113          143.393769             87.344311   \n",
       "51817        940.460113          143.393769             87.344311   \n",
       "51818        397.688186          364.944886            149.450807   \n",
       "\n",
       "       resale_price  \n",
       "0          260000.0  \n",
       "1          710000.0  \n",
       "2          510000.0  \n",
       "3          382000.0  \n",
       "4          380000.0  \n",
       "...             ...  \n",
       "51814      230000.0  \n",
       "51815      365000.0  \n",
       "51816      305000.0  \n",
       "51817      292000.0  \n",
       "51818      320000.0  \n",
       "\n",
       "[51819 rows x 16 columns]"
      ]
     },
     "execution_count": 13,
     "metadata": {},
     "output_type": "execute_result"
    }
   ],
   "source": [
    "dataset = df. iloc[:, [0,2,4,6,7,8,10,11,12,13,14,15,16,17,18,19]]\n",
    "dataset"
   ]
  },
  {
   "cell_type": "code",
   "execution_count": 14,
   "id": "02fa9bb1",
   "metadata": {},
   "outputs": [
    {
     "name": "stdout",
     "output_type": "stream",
     "text": [
      "[718389.54264478]\n"
     ]
    }
   ],
   "source": [
    "X = dataset.iloc[:, :7]\n",
    "y = dataset.iloc[:, -1]\n",
    "\n",
    "from sklearn.linear_model import LinearRegression\n",
    "regressor = LinearRegression()\n",
    "regressor.fit(X, y)\n",
    "\n",
    "#253 Ang Mo Kio St 21, $750k in Sept 2021\n",
    "print(regressor.predict([[2022,560253,5,10,12,138,1996]]))"
   ]
  },
  {
   "cell_type": "code",
   "execution_count": 15,
   "id": "c6fef88a",
   "metadata": {},
   "outputs": [
    {
     "name": "stdout",
     "output_type": "stream",
     "text": [
      "[413120.83800921]\n"
     ]
    }
   ],
   "source": [
    "#105 Ang Mo Kio Ave 4, $440k in Jun 2021\n",
    "print(regressor.predict([[2022,560105,4,4,6,92,1978]]))"
   ]
  },
  {
   "cell_type": "code",
   "execution_count": 16,
   "id": "627d98c2",
   "metadata": {},
   "outputs": [
    {
     "name": "stdout",
     "output_type": "stream",
     "text": [
      "[631431.08309187]\n"
     ]
    }
   ],
   "source": [
    "#310B Ang Mo Kio Ave 1, $760k in Mar 2022\n",
    "print(regressor.predict([[2022,562310,4,16,18,94,2012]]))"
   ]
  },
  {
   "cell_type": "code",
   "execution_count": 17,
   "id": "14c0c096",
   "metadata": {},
   "outputs": [
    {
     "name": "stdout",
     "output_type": "stream",
     "text": [
      "[750499.83103865]\n"
     ]
    }
   ],
   "source": [
    "#Jupyter - Long Set\n",
    "X = dataset.iloc[:, :15]\n",
    "y = dataset.iloc[:, -1]\n",
    "\n",
    "from sklearn.linear_model import LinearRegression\n",
    "regressor = LinearRegression()\n",
    "regressor.fit(X, y)\n",
    "\n",
    "#253 ANG MO KIO STREET 21, $750000 in 2021\n",
    "print(regressor.predict([[2021,560253,5,4,6,138,1996,73.6,9738.088201,306.8549548,151.5172511,1339.020652,1059.242712,588.4520312,739.6176054]]))"
   ]
  },
  {
   "cell_type": "code",
   "execution_count": 18,
   "id": "071472cb",
   "metadata": {},
   "outputs": [
    {
     "name": "stdout",
     "output_type": "stream",
     "text": [
      "[470090.09336273]\n"
     ]
    }
   ],
   "source": [
    "#105 ANG MO KIO AVENUE 4, $440000 in 2021\n",
    "print(regressor.predict([[2021,560105,4,7,9,92,1978,55.9,9992.785762,148.5268718,390.5880377,925.940993,629.4587746,266.2190476,705.9238977]]))"
   ]
  },
  {
   "cell_type": "code",
   "execution_count": 19,
   "id": "89e590af",
   "metadata": {},
   "outputs": [
    {
     "name": "stdout",
     "output_type": "stream",
     "text": [
      "[709299.53734428]\n"
     ]
    }
   ],
   "source": [
    "#310B ANG MO KIO AVENUE 1, $760000 in 2022\n",
    "print(regressor.predict([[2022,562310,4,16,18,94,2012,89.6,9062.142755,831.0047476,351.6049876,1081.823536,548.125356,433.9751462,455.3371208]]))"
   ]
  },
  {
   "cell_type": "code",
   "execution_count": 20,
   "id": "4572e46f",
   "metadata": {},
   "outputs": [
    {
     "name": "stdout",
     "output_type": "stream",
     "text": [
      "[625407.76204197]\n"
     ]
    }
   ],
   "source": [
    "#832 HOUGANG CENTRAL, $612888 in 2019\n",
    "print(regressor.predict([[2019,530832,5,13,15,125,1992,72.5,10595.10125,296.3628235,365.4755921,119.7761583,1216.380602,1341.765648,192.3416772]]))"
   ]
  },
  {
   "cell_type": "code",
   "execution_count": 21,
   "id": "360def7f",
   "metadata": {},
   "outputs": [
    {
     "name": "stdout",
     "output_type": "stream",
     "text": [
      "[579867.29017517]\n"
     ]
    }
   ],
   "source": [
    "#774 BEDOK RESERVOIR VIEW, $568000 in 2019\n",
    "print(regressor.predict([[2019,470774,5,4,6,115,2000,80.9,11200.4189,497.7695863,332.4143661,1209.179148,1616.084613,547.918404,1128.021516]]))"
   ]
  },
  {
   "cell_type": "code",
   "execution_count": 22,
   "id": "c066f67a",
   "metadata": {},
   "outputs": [
    {
     "name": "stdout",
     "output_type": "stream",
     "text": [
      "[531700.04649371]\n"
     ]
    }
   ],
   "source": [
    "#539 JURONG WEST AVENUE 1, $428000 in 2020\n",
    "print(regressor.predict([[2020,640539,5,7,9,134,1984,63.8,16789.23013,892.677829,534.8853544,1603.716321,1694.90375,270.0383667,671.0335129]]))"
   ]
  },
  {
   "cell_type": "code",
   "execution_count": 23,
   "id": "21338b5c",
   "metadata": {},
   "outputs": [
    {
     "name": "stdout",
     "output_type": "stream",
     "text": [
      "[541169.17085886]\n"
     ]
    }
   ],
   "source": [
    "#419 SERANGOON CENTRAL, $610000 in 2020\n",
    "print(regressor.predict([[2020,550419,4,10,12,103,1989,68.3,7813.899036,378.3741709,283.1675253,2487.68893,1089.931403,1576.83836,546.3062114]]))"
   ]
  },
  {
   "cell_type": "code",
   "execution_count": 24,
   "id": "41669073",
   "metadata": {},
   "outputs": [
    {
     "name": "stdout",
     "output_type": "stream",
     "text": [
      "[363843.15769185]\n"
     ]
    }
   ],
   "source": [
    "#165 BEDOK SOUTH ROAD, $358000 in 2020\n",
    "print(regressor.predict([[2020,460165,4,4,6,83,1985,63.8,11327.23493,537.7498014,290.0161154,1717.524202,2623.110337,692.1016191,1024.878326]]))"
   ]
  },
  {
   "cell_type": "code",
   "execution_count": 25,
   "id": "a042a6e5",
   "metadata": {},
   "outputs": [
    {
     "name": "stdout",
     "output_type": "stream",
     "text": [
      "[292971.92389162]\n"
     ]
    }
   ],
   "source": [
    "#109 LORONG 1 TOA PAYOH, $233000 in 2020\n",
    "print(regressor.predict([[2020,310109,3,1,3,66,1970,48.8,6464.518355,107.8183669,381.5305038,1034.844899,1196.795595,388.8601699,668.1476092]]))"
   ]
  },
  {
   "cell_type": "code",
   "execution_count": 26,
   "id": "794328ef",
   "metadata": {},
   "outputs": [
    {
     "name": "stdout",
     "output_type": "stream",
     "text": [
      "[532730.49406244]\n"
     ]
    }
   ],
   "source": [
    "#668B EDGEFIELD PLAINS, $650668 in 2021\n",
    "print(regressor.predict([[2021,822668,5,1,3,113,2016,94.5,15114.66737,277.4329455,233.6578935,2468.886442,1139.104446,5873.005269,1429.673242]]))"
   ]
  },
  {
   "cell_type": "code",
   "execution_count": 27,
   "id": "0d99a61b",
   "metadata": {},
   "outputs": [
    {
     "name": "stdout",
     "output_type": "stream",
     "text": [
      "[391602.83939824]\n"
     ]
    }
   ],
   "source": [
    "#30 BENDEMEER ROAD, $380000 in 2019\n",
    "print(regressor.predict([[2019,330030,3,10,12,78,1972,51.6,4230.401582,226.4121601,361.9213853,605.4468389,1401.009629,99.30909452,720.7592898]]))"
   ]
  },
  {
   "cell_type": "code",
   "execution_count": 28,
   "id": "1081086d",
   "metadata": {},
   "outputs": [
    {
     "name": "stdout",
     "output_type": "stream",
     "text": [
      "[260784.59184267]\n"
     ]
    }
   ],
   "source": [
    "#5 JALAN BATU, $310000 in 2019\n",
    "print(regressor.predict([[2019,431005,3,7,9,60,1969,48.8,4180.97057,477.0538746,299.2536601,2013.127627,1856.505761,87.5908795,236.2514646]]))"
   ]
  },
  {
   "cell_type": "code",
   "execution_count": 29,
   "id": "ba3002f3",
   "metadata": {},
   "outputs": [
    {
     "name": "stdout",
     "output_type": "stream",
     "text": [
      "[682733.42483775]\n"
     ]
    }
   ],
   "source": [
    "#544 SERANGOON NORTH AVENUE 3, $724000 in 2021\n",
    "print(regressor.predict([[2021,550544,5,4,6,145,1997,75.7,10341.02508,2022.981141,450.0748914,835.9606466,1185.349008,1226.440395,1761.196641]]))"
   ]
  },
  {
   "cell_type": "code",
   "execution_count": 30,
   "id": "59ee3273",
   "metadata": {},
   "outputs": [
    {
     "name": "stdout",
     "output_type": "stream",
     "text": [
      "[523259.12475561]\n"
     ]
    }
   ],
   "source": [
    "#468A ADMIRALTY DRIVE, $460000 in 2019\n",
    "print(regressor.predict([[2019,751468,5,10,12,137,2001,81.2,18988.81628,721.3250946,223.462675,3599.77745,2772.372419,2660.88824,3728.82547]]))"
   ]
  },
  {
   "cell_type": "code",
   "execution_count": 31,
   "id": "dfe74f96",
   "metadata": {},
   "outputs": [
    {
     "name": "stdout",
     "output_type": "stream",
     "text": [
      "[483164.35067911]\n"
     ]
    }
   ],
   "source": [
    "#636B SENJA ROAD, $475000 in 2020\n",
    "print(regressor.predict([[2020,672636,4,22,24,92,2015,94.8,15520.53854,697.187765,208.9619241,1023.770566,1219.191999,5383.565501,970.4155151]]))"
   ]
  },
  {
   "cell_type": "code",
   "execution_count": 32,
   "id": "d41d06b7",
   "metadata": {},
   "outputs": [
    {
     "name": "stdout",
     "output_type": "stream",
     "text": [
      "[491065.81805997]\n"
     ]
    }
   ],
   "source": [
    "##645 PUNGGOL CENTRAL, $450000 in 2019\n",
    "print(regressor.predict([[2019,820645,5,16,18,110,2005,85,14606.92052,194.4598611,306.8559642,2506.535418,1411.379436,5440.485236,596.4062907]]))"
   ]
  },
  {
   "cell_type": "code",
   "execution_count": 33,
   "id": "99e76244",
   "metadata": {},
   "outputs": [
    {
     "name": "stdout",
     "output_type": "stream",
     "text": [
      "[423586.7932459]\n"
     ]
    }
   ],
   "source": [
    "#611 WOODLANDS RING ROAD, $370000 in 2019\n",
    "print(regressor.predict([[2019,730611,5,1,3,122,1998,78.2,17905.11429,723.3167857,118.5525269,2473.863073,2525.234932,2390.253815,1858.51821]]))"
   ]
  },
  {
   "cell_type": "code",
   "execution_count": 34,
   "id": "a7ca51a7",
   "metadata": {},
   "outputs": [
    {
     "name": "stdout",
     "output_type": "stream",
     "text": [
      "[502520.9060881]\n"
     ]
    }
   ],
   "source": [
    "#272 BISHAN STREET 24, $625000 in 2019\n",
    "print(regressor.predict([[2019,570272,4,7,9,104,1992,72.6,8159.301663,892.9987315,93.05616073,1752.621479,761.1358279,800.0386909,843.3716116]]))"
   ]
  },
  {
   "cell_type": "code",
   "execution_count": 35,
   "id": "b00e69ae",
   "metadata": {},
   "outputs": [
    {
     "name": "stdout",
     "output_type": "stream",
     "text": [
      "[403291.51336078]\n"
     ]
    }
   ],
   "source": [
    "#272 BISHAN STREET 24, $625000 in 2019\n",
    "print(regressor.predict([[2019,533980,4,10,12,85,2003,83.3,11225.92208,1164.151343,221.3234219,485.9393181,1681.516095,2371.53708,1291.039554]]))"
   ]
  },
  {
   "cell_type": "code",
   "execution_count": 36,
   "id": "520175b0",
   "metadata": {},
   "outputs": [
    {
     "name": "stdout",
     "output_type": "stream",
     "text": [
      "[666971.79593505]\n"
     ]
    }
   ],
   "source": [
    "#51 STRATHMORE AVENUE, $705000 in 2019\n",
    "print(regressor.predict([[2019,140051,4,19,21,90,2006,86.8,4866.622,330.4450955,307.4890279,1034.370961,1616.50662,656.2974333,796.0106017]]))"
   ]
  },
  {
   "cell_type": "code",
   "execution_count": 37,
   "id": "b8e5fbc4",
   "metadata": {},
   "outputs": [],
   "source": [
    "X = dataset.drop(['resale_price'], axis = 1)"
   ]
  },
  {
   "cell_type": "code",
   "execution_count": 38,
   "id": "0558adbe",
   "metadata": {},
   "outputs": [
    {
     "data": {
      "text/html": [
       "<div>\n",
       "<style scoped>\n",
       "    .dataframe tbody tr th:only-of-type {\n",
       "        vertical-align: middle;\n",
       "    }\n",
       "\n",
       "    .dataframe tbody tr th {\n",
       "        vertical-align: top;\n",
       "    }\n",
       "\n",
       "    .dataframe thead th {\n",
       "        text-align: right;\n",
       "    }\n",
       "</style>\n",
       "<table border=\"1\" class=\"dataframe\">\n",
       "  <thead>\n",
       "    <tr style=\"text-align: right;\">\n",
       "      <th></th>\n",
       "      <th>month</th>\n",
       "      <th>postal_code</th>\n",
       "      <th>flat_type</th>\n",
       "      <th>storey_from</th>\n",
       "      <th>storey_to</th>\n",
       "      <th>floor_area_sqm</th>\n",
       "      <th>lease_commence_date</th>\n",
       "      <th>remaining_lease_in_years</th>\n",
       "      <th>dis_to_cbd</th>\n",
       "      <th>min_dist_to_mrt</th>\n",
       "      <th>min_dist_to_school</th>\n",
       "      <th>min_dist_hospital</th>\n",
       "      <th>min_dist_to_park</th>\n",
       "      <th>min_dist_to_market</th>\n",
       "      <th>min_dist_to_facility</th>\n",
       "    </tr>\n",
       "  </thead>\n",
       "  <tbody>\n",
       "    <tr>\n",
       "      <th>0</th>\n",
       "      <td>2019</td>\n",
       "      <td>530122</td>\n",
       "      <td>3</td>\n",
       "      <td>1</td>\n",
       "      <td>3</td>\n",
       "      <td>67.0</td>\n",
       "      <td>1983</td>\n",
       "      <td>63.3</td>\n",
       "      <td>8731.682878</td>\n",
       "      <td>721.908407</td>\n",
       "      <td>331.165289</td>\n",
       "      <td>1814.968989</td>\n",
       "      <td>173.496081</td>\n",
       "      <td>438.053245</td>\n",
       "      <td>1328.297563</td>\n",
       "    </tr>\n",
       "    <tr>\n",
       "      <th>1</th>\n",
       "      <td>2019</td>\n",
       "      <td>530122</td>\n",
       "      <td>5</td>\n",
       "      <td>1</td>\n",
       "      <td>3</td>\n",
       "      <td>133.0</td>\n",
       "      <td>1983</td>\n",
       "      <td>63.3</td>\n",
       "      <td>8731.682878</td>\n",
       "      <td>721.908407</td>\n",
       "      <td>331.165289</td>\n",
       "      <td>1814.968989</td>\n",
       "      <td>173.496081</td>\n",
       "      <td>438.053245</td>\n",
       "      <td>1328.297563</td>\n",
       "    </tr>\n",
       "    <tr>\n",
       "      <th>2</th>\n",
       "      <td>2019</td>\n",
       "      <td>530951</td>\n",
       "      <td>5</td>\n",
       "      <td>13</td>\n",
       "      <td>15</td>\n",
       "      <td>121.0</td>\n",
       "      <td>1999</td>\n",
       "      <td>78.9</td>\n",
       "      <td>10681.260240</td>\n",
       "      <td>1653.971961</td>\n",
       "      <td>418.518565</td>\n",
       "      <td>418.717092</td>\n",
       "      <td>1150.014061</td>\n",
       "      <td>1813.918263</td>\n",
       "      <td>1107.882950</td>\n",
       "    </tr>\n",
       "    <tr>\n",
       "      <th>3</th>\n",
       "      <td>2019</td>\n",
       "      <td>600021</td>\n",
       "      <td>4</td>\n",
       "      <td>4</td>\n",
       "      <td>6</td>\n",
       "      <td>92.0</td>\n",
       "      <td>2013</td>\n",
       "      <td>93.3</td>\n",
       "      <td>13266.470820</td>\n",
       "      <td>1103.794101</td>\n",
       "      <td>890.396736</td>\n",
       "      <td>1295.660320</td>\n",
       "      <td>1585.189337</td>\n",
       "      <td>520.484512</td>\n",
       "      <td>1750.267136</td>\n",
       "    </tr>\n",
       "    <tr>\n",
       "      <th>4</th>\n",
       "      <td>2019</td>\n",
       "      <td>600020</td>\n",
       "      <td>4</td>\n",
       "      <td>1</td>\n",
       "      <td>3</td>\n",
       "      <td>92.0</td>\n",
       "      <td>2013</td>\n",
       "      <td>93.3</td>\n",
       "      <td>13337.111780</td>\n",
       "      <td>1117.652338</td>\n",
       "      <td>955.872009</td>\n",
       "      <td>1326.775610</td>\n",
       "      <td>1537.577048</td>\n",
       "      <td>584.991357</td>\n",
       "      <td>1687.852586</td>\n",
       "    </tr>\n",
       "    <tr>\n",
       "      <th>...</th>\n",
       "      <td>...</td>\n",
       "      <td>...</td>\n",
       "      <td>...</td>\n",
       "      <td>...</td>\n",
       "      <td>...</td>\n",
       "      <td>...</td>\n",
       "      <td>...</td>\n",
       "      <td>...</td>\n",
       "      <td>...</td>\n",
       "      <td>...</td>\n",
       "      <td>...</td>\n",
       "      <td>...</td>\n",
       "      <td>...</td>\n",
       "      <td>...</td>\n",
       "      <td>...</td>\n",
       "    </tr>\n",
       "    <tr>\n",
       "      <th>51814</th>\n",
       "      <td>2021</td>\n",
       "      <td>560116</td>\n",
       "      <td>2</td>\n",
       "      <td>4</td>\n",
       "      <td>6</td>\n",
       "      <td>44.0</td>\n",
       "      <td>1978</td>\n",
       "      <td>56.1</td>\n",
       "      <td>10125.643900</td>\n",
       "      <td>208.580023</td>\n",
       "      <td>246.605467</td>\n",
       "      <td>1031.590181</td>\n",
       "      <td>727.882679</td>\n",
       "      <td>298.726278</td>\n",
       "      <td>869.757017</td>\n",
       "    </tr>\n",
       "    <tr>\n",
       "      <th>51815</th>\n",
       "      <td>2021</td>\n",
       "      <td>560225</td>\n",
       "      <td>3</td>\n",
       "      <td>10</td>\n",
       "      <td>12</td>\n",
       "      <td>82.0</td>\n",
       "      <td>1978</td>\n",
       "      <td>55.8</td>\n",
       "      <td>9446.144286</td>\n",
       "      <td>482.958376</td>\n",
       "      <td>212.148185</td>\n",
       "      <td>1135.234100</td>\n",
       "      <td>919.691974</td>\n",
       "      <td>137.870595</td>\n",
       "      <td>296.758297</td>\n",
       "    </tr>\n",
       "    <tr>\n",
       "      <th>51816</th>\n",
       "      <td>2021</td>\n",
       "      <td>560219</td>\n",
       "      <td>3</td>\n",
       "      <td>4</td>\n",
       "      <td>6</td>\n",
       "      <td>67.0</td>\n",
       "      <td>1977</td>\n",
       "      <td>55.3</td>\n",
       "      <td>9251.897123</td>\n",
       "      <td>757.716383</td>\n",
       "      <td>264.770696</td>\n",
       "      <td>1078.680910</td>\n",
       "      <td>940.460113</td>\n",
       "      <td>143.393769</td>\n",
       "      <td>87.344311</td>\n",
       "    </tr>\n",
       "    <tr>\n",
       "      <th>51817</th>\n",
       "      <td>2021</td>\n",
       "      <td>560219</td>\n",
       "      <td>3</td>\n",
       "      <td>10</td>\n",
       "      <td>12</td>\n",
       "      <td>67.0</td>\n",
       "      <td>1977</td>\n",
       "      <td>55.3</td>\n",
       "      <td>9251.897123</td>\n",
       "      <td>757.716383</td>\n",
       "      <td>264.770696</td>\n",
       "      <td>1078.680910</td>\n",
       "      <td>940.460113</td>\n",
       "      <td>143.393769</td>\n",
       "      <td>87.344311</td>\n",
       "    </tr>\n",
       "    <tr>\n",
       "      <th>51818</th>\n",
       "      <td>2021</td>\n",
       "      <td>560330</td>\n",
       "      <td>3</td>\n",
       "      <td>10</td>\n",
       "      <td>12</td>\n",
       "      <td>68.0</td>\n",
       "      <td>1981</td>\n",
       "      <td>58.8</td>\n",
       "      <td>8783.218982</td>\n",
       "      <td>845.456512</td>\n",
       "      <td>306.156206</td>\n",
       "      <td>1443.675803</td>\n",
       "      <td>397.688186</td>\n",
       "      <td>364.944886</td>\n",
       "      <td>149.450807</td>\n",
       "    </tr>\n",
       "  </tbody>\n",
       "</table>\n",
       "<p>51819 rows × 15 columns</p>\n",
       "</div>"
      ],
      "text/plain": [
       "       month  postal_code  flat_type  storey_from  storey_to  floor_area_sqm  \\\n",
       "0       2019       530122          3            1          3            67.0   \n",
       "1       2019       530122          5            1          3           133.0   \n",
       "2       2019       530951          5           13         15           121.0   \n",
       "3       2019       600021          4            4          6            92.0   \n",
       "4       2019       600020          4            1          3            92.0   \n",
       "...      ...          ...        ...          ...        ...             ...   \n",
       "51814   2021       560116          2            4          6            44.0   \n",
       "51815   2021       560225          3           10         12            82.0   \n",
       "51816   2021       560219          3            4          6            67.0   \n",
       "51817   2021       560219          3           10         12            67.0   \n",
       "51818   2021       560330          3           10         12            68.0   \n",
       "\n",
       "       lease_commence_date  remaining_lease_in_years    dis_to_cbd  \\\n",
       "0                     1983                      63.3   8731.682878   \n",
       "1                     1983                      63.3   8731.682878   \n",
       "2                     1999                      78.9  10681.260240   \n",
       "3                     2013                      93.3  13266.470820   \n",
       "4                     2013                      93.3  13337.111780   \n",
       "...                    ...                       ...           ...   \n",
       "51814                 1978                      56.1  10125.643900   \n",
       "51815                 1978                      55.8   9446.144286   \n",
       "51816                 1977                      55.3   9251.897123   \n",
       "51817                 1977                      55.3   9251.897123   \n",
       "51818                 1981                      58.8   8783.218982   \n",
       "\n",
       "       min_dist_to_mrt  min_dist_to_school  min_dist_hospital  \\\n",
       "0           721.908407          331.165289        1814.968989   \n",
       "1           721.908407          331.165289        1814.968989   \n",
       "2          1653.971961          418.518565         418.717092   \n",
       "3          1103.794101          890.396736        1295.660320   \n",
       "4          1117.652338          955.872009        1326.775610   \n",
       "...                ...                 ...                ...   \n",
       "51814       208.580023          246.605467        1031.590181   \n",
       "51815       482.958376          212.148185        1135.234100   \n",
       "51816       757.716383          264.770696        1078.680910   \n",
       "51817       757.716383          264.770696        1078.680910   \n",
       "51818       845.456512          306.156206        1443.675803   \n",
       "\n",
       "       min_dist_to_park  min_dist_to_market  min_dist_to_facility  \n",
       "0            173.496081          438.053245           1328.297563  \n",
       "1            173.496081          438.053245           1328.297563  \n",
       "2           1150.014061         1813.918263           1107.882950  \n",
       "3           1585.189337          520.484512           1750.267136  \n",
       "4           1537.577048          584.991357           1687.852586  \n",
       "...                 ...                 ...                   ...  \n",
       "51814        727.882679          298.726278            869.757017  \n",
       "51815        919.691974          137.870595            296.758297  \n",
       "51816        940.460113          143.393769             87.344311  \n",
       "51817        940.460113          143.393769             87.344311  \n",
       "51818        397.688186          364.944886            149.450807  \n",
       "\n",
       "[51819 rows x 15 columns]"
      ]
     },
     "execution_count": 38,
     "metadata": {},
     "output_type": "execute_result"
    }
   ],
   "source": [
    "X"
   ]
  },
  {
   "cell_type": "code",
   "execution_count": 39,
   "id": "cd434c99",
   "metadata": {},
   "outputs": [],
   "source": [
    "Y = dataset['resale_price']"
   ]
  },
  {
   "cell_type": "code",
   "execution_count": 40,
   "id": "5b20fe00",
   "metadata": {},
   "outputs": [
    {
     "data": {
      "text/plain": [
       "0        260000.0\n",
       "1        710000.0\n",
       "2        510000.0\n",
       "3        382000.0\n",
       "4        380000.0\n",
       "           ...   \n",
       "51814    230000.0\n",
       "51815    365000.0\n",
       "51816    305000.0\n",
       "51817    292000.0\n",
       "51818    320000.0\n",
       "Name: resale_price, Length: 51819, dtype: float64"
      ]
     },
     "execution_count": 40,
     "metadata": {},
     "output_type": "execute_result"
    }
   ],
   "source": [
    "Y"
   ]
  },
  {
   "cell_type": "code",
   "execution_count": 41,
   "id": "68658871",
   "metadata": {},
   "outputs": [
    {
     "data": {
      "text/plain": [
       "(51819, 15)"
      ]
     },
     "execution_count": 41,
     "metadata": {},
     "output_type": "execute_result"
    }
   ],
   "source": [
    "X.shape"
   ]
  },
  {
   "cell_type": "code",
   "execution_count": 42,
   "id": "12395e72",
   "metadata": {},
   "outputs": [
    {
     "data": {
      "text/plain": [
       "(51819,)"
      ]
     },
     "execution_count": 42,
     "metadata": {},
     "output_type": "execute_result"
    }
   ],
   "source": [
    "Y.shape"
   ]
  },
  {
   "cell_type": "code",
   "execution_count": 43,
   "id": "c4b120c8",
   "metadata": {},
   "outputs": [],
   "source": [
    "from sklearn.preprocessing import MinMaxScaler\n",
    "\n",
    "scaler = MinMaxScaler()\n",
    "X_scaled = scaler.fit_transform(X)"
   ]
  },
  {
   "cell_type": "code",
   "execution_count": 44,
   "id": "5034faf6",
   "metadata": {},
   "outputs": [
    {
     "data": {
      "text/plain": [
       "array([[0.        , 0.61935446, 0.33333333, ..., 0.02726842, 0.06961268,\n",
       "        0.30280808],\n",
       "       [0.        , 0.61935446, 0.66666667, ..., 0.02726842, 0.06961268,\n",
       "        0.30280808],\n",
       "       [0.        , 0.62042387, 0.66666667, ..., 0.34461695, 0.29462381,\n",
       "        0.25081614],\n",
       "       ...,\n",
       "       [0.66666667, 0.65817973, 0.33333333, ..., 0.27651617, 0.0214236 ,\n",
       "        0.01008896],\n",
       "       [0.66666667, 0.65817973, 0.33333333, ..., 0.27651617, 0.0214236 ,\n",
       "        0.01008896],\n",
       "       [0.66666667, 0.65832292, 0.33333333, ..., 0.10012631, 0.05765642,\n",
       "        0.0247388 ]])"
      ]
     },
     "execution_count": 44,
     "metadata": {},
     "output_type": "execute_result"
    }
   ],
   "source": [
    "X_scaled"
   ]
  },
  {
   "cell_type": "code",
   "execution_count": 45,
   "id": "69db6eae",
   "metadata": {},
   "outputs": [
    {
     "data": {
      "text/plain": [
       "array([2.02200000e+03, 8.25195000e+05, 7.00000000e+00, 4.90000000e+01,\n",
       "       5.10000000e+01, 2.41000000e+02, 2.01900000e+03, 9.78000000e+01,\n",
       "       2.02251040e+04, 3.49640281e+03, 3.30250938e+03, 5.16411062e+03,\n",
       "       3.16670325e+03, 6.12704905e+03, 4.28397253e+03])"
      ]
     },
     "execution_count": 45,
     "metadata": {},
     "output_type": "execute_result"
    }
   ],
   "source": [
    "scaler.data_max_"
   ]
  },
  {
   "cell_type": "code",
   "execution_count": 46,
   "id": "d3e040f0",
   "metadata": {},
   "outputs": [
    {
     "data": {
      "text/plain": [
       "array([2.01900000e+03, 5.00040000e+04, 1.00000000e+00, 1.00000000e+00,\n",
       "       3.00000000e+00, 3.10000000e+01, 1.96600000e+03, 4.38000000e+01,\n",
       "       5.92122414e+02, 2.26058811e+01, 3.87326699e+01, 3.85527644e+01,\n",
       "       8.95880029e+01, 1.23958663e+01, 4.45731670e+01])"
      ]
     },
     "execution_count": 46,
     "metadata": {},
     "output_type": "execute_result"
    }
   ],
   "source": [
    "scaler.data_min_"
   ]
  },
  {
   "cell_type": "code",
   "execution_count": 47,
   "id": "a9c9debd",
   "metadata": {},
   "outputs": [
    {
     "name": "stdout",
     "output_type": "stream",
     "text": [
      "[0.         0.         0.         ... 0.66666667 0.66666667 0.66666667]\n"
     ]
    }
   ],
   "source": [
    "print(X_scaled[:,0])"
   ]
  },
  {
   "cell_type": "code",
   "execution_count": 48,
   "id": "ba74da1e",
   "metadata": {},
   "outputs": [],
   "source": [
    "y = y.values.reshape(-1,1)"
   ]
  },
  {
   "cell_type": "code",
   "execution_count": 49,
   "id": "c7c2f875",
   "metadata": {},
   "outputs": [
    {
     "data": {
      "text/plain": [
       "(51819, 1)"
      ]
     },
     "execution_count": 49,
     "metadata": {},
     "output_type": "execute_result"
    }
   ],
   "source": [
    "y.shape"
   ]
  },
  {
   "cell_type": "code",
   "execution_count": 50,
   "id": "0d40c1f6",
   "metadata": {},
   "outputs": [],
   "source": [
    "y_scaled = scaler.fit_transform(y)"
   ]
  },
  {
   "cell_type": "code",
   "execution_count": 51,
   "id": "9d1423ab",
   "metadata": {},
   "outputs": [
    {
     "data": {
      "text/plain": [
       "array([[0.0912341 ],\n",
       "       [0.45348823],\n",
       "       [0.2924864 ],\n",
       "       ...,\n",
       "       [0.12745952],\n",
       "       [0.1169944 ],\n",
       "       [0.13953465]])"
      ]
     },
     "execution_count": 51,
     "metadata": {},
     "output_type": "execute_result"
    }
   ],
   "source": [
    "y_scaled"
   ]
  },
  {
   "cell_type": "code",
   "execution_count": 52,
   "id": "ace7600f",
   "metadata": {},
   "outputs": [],
   "source": [
    "X_train, X_test , y_train , y_test = train_test_split(X , y , test_size = 0.1)"
   ]
  },
  {
   "cell_type": "code",
   "execution_count": 53,
   "id": "684a44ec",
   "metadata": {},
   "outputs": [
    {
     "data": {
      "text/plain": [
       "(46637, 15)"
      ]
     },
     "execution_count": 53,
     "metadata": {},
     "output_type": "execute_result"
    }
   ],
   "source": [
    "X_train.shape"
   ]
  },
  {
   "cell_type": "code",
   "execution_count": 54,
   "id": "309d5e1a",
   "metadata": {},
   "outputs": [
    {
     "data": {
      "text/plain": [
       "(5182, 15)"
      ]
     },
     "execution_count": 54,
     "metadata": {},
     "output_type": "execute_result"
    }
   ],
   "source": [
    "X_test.shape"
   ]
  },
  {
   "cell_type": "code",
   "execution_count": 55,
   "id": "43aeadbe",
   "metadata": {},
   "outputs": [
    {
     "data": {
      "text/plain": [
       "LinearRegression()"
      ]
     },
     "execution_count": 55,
     "metadata": {},
     "output_type": "execute_result"
    }
   ],
   "source": [
    "model = LinearRegression()\n",
    "model.fit(X_train , y_train)"
   ]
  },
  {
   "cell_type": "code",
   "execution_count": 56,
   "id": "99cbb348",
   "metadata": {},
   "outputs": [
    {
     "data": {
      "text/plain": [
       "array([[497154.25512746],\n",
       "       [339425.17947876],\n",
       "       [526323.09178038],\n",
       "       ...,\n",
       "       [508268.87513962],\n",
       "       [604055.03317967],\n",
       "       [470949.11748883]])"
      ]
     },
     "execution_count": 56,
     "metadata": {},
     "output_type": "execute_result"
    }
   ],
   "source": [
    "y_pred = model.predict(X_test)\n",
    "y_pred"
   ]
  },
  {
   "cell_type": "code",
   "execution_count": 57,
   "id": "105ed897",
   "metadata": {},
   "outputs": [
    {
     "data": {
      "text/plain": [
       "array([[470000.],\n",
       "       [364000.],\n",
       "       [420000.],\n",
       "       ...,\n",
       "       [525000.],\n",
       "       [550000.],\n",
       "       [425000.]])"
      ]
     },
     "execution_count": 57,
     "metadata": {},
     "output_type": "execute_result"
    }
   ],
   "source": [
    "y_test"
   ]
  },
  {
   "cell_type": "code",
   "execution_count": 58,
   "id": "c0d99f48",
   "metadata": {},
   "outputs": [
    {
     "data": {
      "text/plain": [
       "array([[497154.25512746],\n",
       "       [339425.17947876],\n",
       "       [526323.09178038],\n",
       "       ...,\n",
       "       [508268.87513962],\n",
       "       [604055.03317967],\n",
       "       [470949.11748883]])"
      ]
     },
     "execution_count": 58,
     "metadata": {},
     "output_type": "execute_result"
    }
   ],
   "source": [
    "int_array = y_pred. astype(float)\n",
    "y_pred"
   ]
  },
  {
   "cell_type": "code",
   "execution_count": 59,
   "id": "1055bcb7",
   "metadata": {},
   "outputs": [
    {
     "data": {
      "text/plain": [
       "array([[470000.],\n",
       "       [364000.],\n",
       "       [420000.],\n",
       "       ...,\n",
       "       [525000.],\n",
       "       [550000.],\n",
       "       [425000.]])"
      ]
     },
     "execution_count": 59,
     "metadata": {},
     "output_type": "execute_result"
    }
   ],
   "source": [
    "int_array = y_test. astype(float)\n",
    "y_test"
   ]
  },
  {
   "cell_type": "code",
   "execution_count": 60,
   "id": "659de2f2",
   "metadata": {},
   "outputs": [
    {
     "data": {
      "text/plain": [
       "0.8434627344258305"
      ]
     },
     "execution_count": 60,
     "metadata": {},
     "output_type": "execute_result"
    }
   ],
   "source": [
    "metrics.r2_score(y_test , y_pred)"
   ]
  },
  {
   "cell_type": "code",
   "execution_count": null,
   "id": "c375ca35",
   "metadata": {},
   "outputs": [],
   "source": []
  }
 ],
 "metadata": {
  "kernelspec": {
   "display_name": "Python 3 (ipykernel)",
   "language": "python",
   "name": "python3"
  },
  "language_info": {
   "codemirror_mode": {
    "name": "ipython",
    "version": 3
   },
   "file_extension": ".py",
   "mimetype": "text/x-python",
   "name": "python",
   "nbconvert_exporter": "python",
   "pygments_lexer": "ipython3",
   "version": "3.9.7"
  }
 },
 "nbformat": 4,
 "nbformat_minor": 5
}
